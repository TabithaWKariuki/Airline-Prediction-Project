{
  "cells": [
    {
      "cell_type": "markdown",
      "metadata": {
        "id": "view-in-github",
        "colab_type": "text"
      },
      "source": [
        "<a href=\"https://colab.research.google.com/github/TabithaWKariuki/Airline-Prediction-Project/blob/main/Flight_Delay_Prediction_Team_Project.ipynb\" target=\"_parent\"><img src=\"https://colab.research.google.com/assets/colab-badge.svg\" alt=\"Open In Colab\"/></a>"
      ]
    },
    {
      "cell_type": "markdown",
      "source": [
        "#**AIRLINE DATASET TO PREDICT A FLIGHT DELAY.**"
      ],
      "metadata": {
        "id": "xY3211VD2-AI"
      }
    },
    {
      "cell_type": "markdown",
      "metadata": {
        "id": "ablDPcyzHwp8"
      },
      "source": [
        "![Flight-delay.webp](data:image/webp;base64,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)\n",
        "# **Introduction**\n",
        "With the instantaneous  development of today’s air transport industry, airline travel has in the recent past become a very popular mode of travel. There are so many benefits of traveling by air as compared to other forms of travel. Most important of these benefits being safety and speed. Flying has also become quite affordable in the past decade and it is the most preferred by people traveling both far and short distances. \n",
        "Despite these benefits there are still some disadvantages to flying, among them being delays in flights. Delay in flight is an inevitable phenomenon which has significant negative economic effects on airports, passengers and travel agencies. \n",
        "A flight delay is when an airline flight takes off and/or lands later than its scheduled time. The Federal Aviation Administration (FAA) considers a flight to be delayed when it is 15 minutes later than its scheduled time. A cancellation occurs when the airline does not operate the flight at all for a certain reason."
      ]
    },
    {
      "cell_type": "markdown",
      "metadata": {
        "id": "CrhfO1O4H1fm"
      },
      "source": [
        "## **Problem Statement**\n",
        "\n",
        "With this study, we aim at predicting if a flight will be delayed or not depending on the factors that we will analyze. Predicting flight delays will help improve airline operations and attain passenger satisfaction, which will result in a positive economic impact on passengers, airlines, airports and travel agencies. "
      ]
    },
    {
      "cell_type": "markdown",
      "source": [
        "# **Objectives.**\n",
        "\n",
        "We aim to build a model that predicts whether a given flight will be delayed given the information in the scheduled departure.\n"
      ],
      "metadata": {
        "id": "aAFfmpbst9Tp"
      }
    },
    {
      "cell_type": "markdown",
      "metadata": {
        "id": "22GTaNTmH1Tc"
      },
      "source": [
        "## **Research Questions**\n",
        "\n",
        "1. Which airline has the most delays.\n",
        "2. Which airport there were most delays.\n",
        "3. What was the average delay time for each airline.\n",
        "4. Which day of the week had the most delays.\n",
        "5. Is a relationship/ correlation between the airport and airline which may lead to delays in flights.\n"
      ]
    },
    {
      "cell_type": "markdown",
      "metadata": {
        "id": "1zTzTnMZH8DD"
      },
      "source": [
        "### **Metrics of success**\n",
        "* Read and explore the given dataset.\n",
        "\n",
        "* Finding and dealing with outliers, anomalies, and missing data within the dataset.\n",
        "\n",
        "* Performing univariate, bivariate and multivariate analysis.\n",
        "\n",
        "* Performing Decision tree, KNN, Naive Bayes models and choosing the best model with the highest f1 score with an improvement of both classes.\n",
        "\n",
        "* Providing recommendation based the analysis.\n",
        "\n",
        "* Challenge the solution of our best with a different model."
      ]
    },
    {
      "cell_type": "markdown",
      "metadata": {
        "id": "k-UcUIloHlSD"
      },
      "source": [
        "## **Data Understanding**"
      ]
    },
    {
      "cell_type": "code",
      "execution_count": null,
      "metadata": {
        "colab": {
          "base_uri": "https://localhost:8080/"
        },
        "id": "K8xryQK6FXSf",
        "outputId": "f884bd0d-50d8-44f0-b372-2070e25f3f7d"
      },
      "outputs": [
        {
          "output_type": "stream",
          "name": "stdout",
          "text": [
            "Using matplotlib backend: agg\n"
          ]
        }
      ],
      "source": [
        "#Libraries\n",
        "import pandas as pd\n",
        "import numpy as np\n",
        "import seaborn as sns\n",
        "import matplotlib.pyplot as plt\n",
        "%matplotlib\n",
        "import warnings \n",
        "warnings.filterwarnings('ignore')"
      ]
    },
    {
      "cell_type": "code",
      "execution_count": null,
      "metadata": {
        "id": "QtqQJgaIHAtk"
      },
      "outputs": [],
      "source": [
        "#Loading the dataset\n",
        "df = pd.read_csv('Airlines.csv')"
      ]
    },
    {
      "cell_type": "code",
      "execution_count": null,
      "metadata": {
        "id": "pq9Qu0K3HNMy",
        "colab": {
          "base_uri": "https://localhost:8080/"
        },
        "outputId": "7837678b-53f4-4baa-b474-b6075c1dd14a"
      },
      "outputs": [
        {
          "output_type": "execute_result",
          "data": {
            "text/plain": [
              "(539383, 9)"
            ]
          },
          "metadata": {},
          "execution_count": 3
        }
      ],
      "source": [
        "#Shape of the dataset\n",
        "df.shape\n",
        "# The data has 9 columns and 539,383 rows "
      ]
    },
    {
      "cell_type": "code",
      "execution_count": null,
      "metadata": {
        "id": "aKWO8m2bHNIo",
        "colab": {
          "base_uri": "https://localhost:8080/",
          "height": 206
        },
        "outputId": "eaa18a79-0a30-4390-a44d-2c42eb2eb4dc"
      },
      "outputs": [
        {
          "output_type": "execute_result",
          "data": {
            "text/plain": [
              "   id Airline  Flight AirportFrom AirportTo  DayOfWeek  Time  Length  Delay\n",
              "0   1      CO     269         SFO       IAH          3    15     205      1\n",
              "1   2      US    1558         PHX       CLT          3    15     222      1\n",
              "2   3      AA    2400         LAX       DFW          3    20     165      1\n",
              "3   4      AA    2466         SFO       DFW          3    20     195      1\n",
              "4   5      AS     108         ANC       SEA          3    30     202      0"
            ],
            "text/html": [
              "\n",
              "  <div id=\"df-9b3914ac-79f4-479c-a2c4-eb03ef079e89\">\n",
              "    <div class=\"colab-df-container\">\n",
              "      <div>\n",
              "<style scoped>\n",
              "    .dataframe tbody tr th:only-of-type {\n",
              "        vertical-align: middle;\n",
              "    }\n",
              "\n",
              "    .dataframe tbody tr th {\n",
              "        vertical-align: top;\n",
              "    }\n",
              "\n",
              "    .dataframe thead th {\n",
              "        text-align: right;\n",
              "    }\n",
              "</style>\n",
              "<table border=\"1\" class=\"dataframe\">\n",
              "  <thead>\n",
              "    <tr style=\"text-align: right;\">\n",
              "      <th></th>\n",
              "      <th>id</th>\n",
              "      <th>Airline</th>\n",
              "      <th>Flight</th>\n",
              "      <th>AirportFrom</th>\n",
              "      <th>AirportTo</th>\n",
              "      <th>DayOfWeek</th>\n",
              "      <th>Time</th>\n",
              "      <th>Length</th>\n",
              "      <th>Delay</th>\n",
              "    </tr>\n",
              "  </thead>\n",
              "  <tbody>\n",
              "    <tr>\n",
              "      <th>0</th>\n",
              "      <td>1</td>\n",
              "      <td>CO</td>\n",
              "      <td>269</td>\n",
              "      <td>SFO</td>\n",
              "      <td>IAH</td>\n",
              "      <td>3</td>\n",
              "      <td>15</td>\n",
              "      <td>205</td>\n",
              "      <td>1</td>\n",
              "    </tr>\n",
              "    <tr>\n",
              "      <th>1</th>\n",
              "      <td>2</td>\n",
              "      <td>US</td>\n",
              "      <td>1558</td>\n",
              "      <td>PHX</td>\n",
              "      <td>CLT</td>\n",
              "      <td>3</td>\n",
              "      <td>15</td>\n",
              "      <td>222</td>\n",
              "      <td>1</td>\n",
              "    </tr>\n",
              "    <tr>\n",
              "      <th>2</th>\n",
              "      <td>3</td>\n",
              "      <td>AA</td>\n",
              "      <td>2400</td>\n",
              "      <td>LAX</td>\n",
              "      <td>DFW</td>\n",
              "      <td>3</td>\n",
              "      <td>20</td>\n",
              "      <td>165</td>\n",
              "      <td>1</td>\n",
              "    </tr>\n",
              "    <tr>\n",
              "      <th>3</th>\n",
              "      <td>4</td>\n",
              "      <td>AA</td>\n",
              "      <td>2466</td>\n",
              "      <td>SFO</td>\n",
              "      <td>DFW</td>\n",
              "      <td>3</td>\n",
              "      <td>20</td>\n",
              "      <td>195</td>\n",
              "      <td>1</td>\n",
              "    </tr>\n",
              "    <tr>\n",
              "      <th>4</th>\n",
              "      <td>5</td>\n",
              "      <td>AS</td>\n",
              "      <td>108</td>\n",
              "      <td>ANC</td>\n",
              "      <td>SEA</td>\n",
              "      <td>3</td>\n",
              "      <td>30</td>\n",
              "      <td>202</td>\n",
              "      <td>0</td>\n",
              "    </tr>\n",
              "  </tbody>\n",
              "</table>\n",
              "</div>\n",
              "      <button class=\"colab-df-convert\" onclick=\"convertToInteractive('df-9b3914ac-79f4-479c-a2c4-eb03ef079e89')\"\n",
              "              title=\"Convert this dataframe to an interactive table.\"\n",
              "              style=\"display:none;\">\n",
              "        \n",
              "  <svg xmlns=\"http://www.w3.org/2000/svg\" height=\"24px\"viewBox=\"0 0 24 24\"\n",
              "       width=\"24px\">\n",
              "    <path d=\"M0 0h24v24H0V0z\" fill=\"none\"/>\n",
              "    <path d=\"M18.56 5.44l.94 2.06.94-2.06 2.06-.94-2.06-.94-.94-2.06-.94 2.06-2.06.94zm-11 1L8.5 8.5l.94-2.06 2.06-.94-2.06-.94L8.5 2.5l-.94 2.06-2.06.94zm10 10l.94 2.06.94-2.06 2.06-.94-2.06-.94-.94-2.06-.94 2.06-2.06.94z\"/><path d=\"M17.41 7.96l-1.37-1.37c-.4-.4-.92-.59-1.43-.59-.52 0-1.04.2-1.43.59L10.3 9.45l-7.72 7.72c-.78.78-.78 2.05 0 2.83L4 21.41c.39.39.9.59 1.41.59.51 0 1.02-.2 1.41-.59l7.78-7.78 2.81-2.81c.8-.78.8-2.07 0-2.86zM5.41 20L4 18.59l7.72-7.72 1.47 1.35L5.41 20z\"/>\n",
              "  </svg>\n",
              "      </button>\n",
              "      \n",
              "  <style>\n",
              "    .colab-df-container {\n",
              "      display:flex;\n",
              "      flex-wrap:wrap;\n",
              "      gap: 12px;\n",
              "    }\n",
              "\n",
              "    .colab-df-convert {\n",
              "      background-color: #E8F0FE;\n",
              "      border: none;\n",
              "      border-radius: 50%;\n",
              "      cursor: pointer;\n",
              "      display: none;\n",
              "      fill: #1967D2;\n",
              "      height: 32px;\n",
              "      padding: 0 0 0 0;\n",
              "      width: 32px;\n",
              "    }\n",
              "\n",
              "    .colab-df-convert:hover {\n",
              "      background-color: #E2EBFA;\n",
              "      box-shadow: 0px 1px 2px rgba(60, 64, 67, 0.3), 0px 1px 3px 1px rgba(60, 64, 67, 0.15);\n",
              "      fill: #174EA6;\n",
              "    }\n",
              "\n",
              "    [theme=dark] .colab-df-convert {\n",
              "      background-color: #3B4455;\n",
              "      fill: #D2E3FC;\n",
              "    }\n",
              "\n",
              "    [theme=dark] .colab-df-convert:hover {\n",
              "      background-color: #434B5C;\n",
              "      box-shadow: 0px 1px 3px 1px rgba(0, 0, 0, 0.15);\n",
              "      filter: drop-shadow(0px 1px 2px rgba(0, 0, 0, 0.3));\n",
              "      fill: #FFFFFF;\n",
              "    }\n",
              "  </style>\n",
              "\n",
              "      <script>\n",
              "        const buttonEl =\n",
              "          document.querySelector('#df-9b3914ac-79f4-479c-a2c4-eb03ef079e89 button.colab-df-convert');\n",
              "        buttonEl.style.display =\n",
              "          google.colab.kernel.accessAllowed ? 'block' : 'none';\n",
              "\n",
              "        async function convertToInteractive(key) {\n",
              "          const element = document.querySelector('#df-9b3914ac-79f4-479c-a2c4-eb03ef079e89');\n",
              "          const dataTable =\n",
              "            await google.colab.kernel.invokeFunction('convertToInteractive',\n",
              "                                                     [key], {});\n",
              "          if (!dataTable) return;\n",
              "\n",
              "          const docLinkHtml = 'Like what you see? Visit the ' +\n",
              "            '<a target=\"_blank\" href=https://colab.research.google.com/notebooks/data_table.ipynb>data table notebook</a>'\n",
              "            + ' to learn more about interactive tables.';\n",
              "          element.innerHTML = '';\n",
              "          dataTable['output_type'] = 'display_data';\n",
              "          await google.colab.output.renderOutput(dataTable, element);\n",
              "          const docLink = document.createElement('div');\n",
              "          docLink.innerHTML = docLinkHtml;\n",
              "          element.appendChild(docLink);\n",
              "        }\n",
              "      </script>\n",
              "    </div>\n",
              "  </div>\n",
              "  "
            ]
          },
          "metadata": {},
          "execution_count": 4
        }
      ],
      "source": [
        "#First five rows\n",
        "df.head()\n",
        "# First four rows "
      ]
    },
    {
      "cell_type": "code",
      "execution_count": null,
      "metadata": {
        "id": "pp8ZRvfmHNEh",
        "colab": {
          "base_uri": "https://localhost:8080/",
          "height": 206
        },
        "outputId": "9077cb13-8b3b-40d4-a764-a80a8bcd8685"
      },
      "outputs": [
        {
          "output_type": "execute_result",
          "data": {
            "text/plain": [
              "            id Airline  Flight AirportFrom AirportTo  DayOfWeek  Time  Length  \\\n",
              "539378  539379      CO     178         OGG       SNA          5  1439     326   \n",
              "539379  539380      FL     398         SEA       ATL          5  1439     305   \n",
              "539380  539381      FL     609         SFO       MKE          5  1439     255   \n",
              "539381  539382      UA      78         HNL       SFO          5  1439     313   \n",
              "539382  539383      US    1442         LAX       PHL          5  1439     301   \n",
              "\n",
              "        Delay  \n",
              "539378      0  \n",
              "539379      0  \n",
              "539380      0  \n",
              "539381      1  \n",
              "539382      1  "
            ],
            "text/html": [
              "\n",
              "  <div id=\"df-5f023964-7b63-4917-b1fd-49b714553cc9\">\n",
              "    <div class=\"colab-df-container\">\n",
              "      <div>\n",
              "<style scoped>\n",
              "    .dataframe tbody tr th:only-of-type {\n",
              "        vertical-align: middle;\n",
              "    }\n",
              "\n",
              "    .dataframe tbody tr th {\n",
              "        vertical-align: top;\n",
              "    }\n",
              "\n",
              "    .dataframe thead th {\n",
              "        text-align: right;\n",
              "    }\n",
              "</style>\n",
              "<table border=\"1\" class=\"dataframe\">\n",
              "  <thead>\n",
              "    <tr style=\"text-align: right;\">\n",
              "      <th></th>\n",
              "      <th>id</th>\n",
              "      <th>Airline</th>\n",
              "      <th>Flight</th>\n",
              "      <th>AirportFrom</th>\n",
              "      <th>AirportTo</th>\n",
              "      <th>DayOfWeek</th>\n",
              "      <th>Time</th>\n",
              "      <th>Length</th>\n",
              "      <th>Delay</th>\n",
              "    </tr>\n",
              "  </thead>\n",
              "  <tbody>\n",
              "    <tr>\n",
              "      <th>539378</th>\n",
              "      <td>539379</td>\n",
              "      <td>CO</td>\n",
              "      <td>178</td>\n",
              "      <td>OGG</td>\n",
              "      <td>SNA</td>\n",
              "      <td>5</td>\n",
              "      <td>1439</td>\n",
              "      <td>326</td>\n",
              "      <td>0</td>\n",
              "    </tr>\n",
              "    <tr>\n",
              "      <th>539379</th>\n",
              "      <td>539380</td>\n",
              "      <td>FL</td>\n",
              "      <td>398</td>\n",
              "      <td>SEA</td>\n",
              "      <td>ATL</td>\n",
              "      <td>5</td>\n",
              "      <td>1439</td>\n",
              "      <td>305</td>\n",
              "      <td>0</td>\n",
              "    </tr>\n",
              "    <tr>\n",
              "      <th>539380</th>\n",
              "      <td>539381</td>\n",
              "      <td>FL</td>\n",
              "      <td>609</td>\n",
              "      <td>SFO</td>\n",
              "      <td>MKE</td>\n",
              "      <td>5</td>\n",
              "      <td>1439</td>\n",
              "      <td>255</td>\n",
              "      <td>0</td>\n",
              "    </tr>\n",
              "    <tr>\n",
              "      <th>539381</th>\n",
              "      <td>539382</td>\n",
              "      <td>UA</td>\n",
              "      <td>78</td>\n",
              "      <td>HNL</td>\n",
              "      <td>SFO</td>\n",
              "      <td>5</td>\n",
              "      <td>1439</td>\n",
              "      <td>313</td>\n",
              "      <td>1</td>\n",
              "    </tr>\n",
              "    <tr>\n",
              "      <th>539382</th>\n",
              "      <td>539383</td>\n",
              "      <td>US</td>\n",
              "      <td>1442</td>\n",
              "      <td>LAX</td>\n",
              "      <td>PHL</td>\n",
              "      <td>5</td>\n",
              "      <td>1439</td>\n",
              "      <td>301</td>\n",
              "      <td>1</td>\n",
              "    </tr>\n",
              "  </tbody>\n",
              "</table>\n",
              "</div>\n",
              "      <button class=\"colab-df-convert\" onclick=\"convertToInteractive('df-5f023964-7b63-4917-b1fd-49b714553cc9')\"\n",
              "              title=\"Convert this dataframe to an interactive table.\"\n",
              "              style=\"display:none;\">\n",
              "        \n",
              "  <svg xmlns=\"http://www.w3.org/2000/svg\" height=\"24px\"viewBox=\"0 0 24 24\"\n",
              "       width=\"24px\">\n",
              "    <path d=\"M0 0h24v24H0V0z\" fill=\"none\"/>\n",
              "    <path d=\"M18.56 5.44l.94 2.06.94-2.06 2.06-.94-2.06-.94-.94-2.06-.94 2.06-2.06.94zm-11 1L8.5 8.5l.94-2.06 2.06-.94-2.06-.94L8.5 2.5l-.94 2.06-2.06.94zm10 10l.94 2.06.94-2.06 2.06-.94-2.06-.94-.94-2.06-.94 2.06-2.06.94z\"/><path d=\"M17.41 7.96l-1.37-1.37c-.4-.4-.92-.59-1.43-.59-.52 0-1.04.2-1.43.59L10.3 9.45l-7.72 7.72c-.78.78-.78 2.05 0 2.83L4 21.41c.39.39.9.59 1.41.59.51 0 1.02-.2 1.41-.59l7.78-7.78 2.81-2.81c.8-.78.8-2.07 0-2.86zM5.41 20L4 18.59l7.72-7.72 1.47 1.35L5.41 20z\"/>\n",
              "  </svg>\n",
              "      </button>\n",
              "      \n",
              "  <style>\n",
              "    .colab-df-container {\n",
              "      display:flex;\n",
              "      flex-wrap:wrap;\n",
              "      gap: 12px;\n",
              "    }\n",
              "\n",
              "    .colab-df-convert {\n",
              "      background-color: #E8F0FE;\n",
              "      border: none;\n",
              "      border-radius: 50%;\n",
              "      cursor: pointer;\n",
              "      display: none;\n",
              "      fill: #1967D2;\n",
              "      height: 32px;\n",
              "      padding: 0 0 0 0;\n",
              "      width: 32px;\n",
              "    }\n",
              "\n",
              "    .colab-df-convert:hover {\n",
              "      background-color: #E2EBFA;\n",
              "      box-shadow: 0px 1px 2px rgba(60, 64, 67, 0.3), 0px 1px 3px 1px rgba(60, 64, 67, 0.15);\n",
              "      fill: #174EA6;\n",
              "    }\n",
              "\n",
              "    [theme=dark] .colab-df-convert {\n",
              "      background-color: #3B4455;\n",
              "      fill: #D2E3FC;\n",
              "    }\n",
              "\n",
              "    [theme=dark] .colab-df-convert:hover {\n",
              "      background-color: #434B5C;\n",
              "      box-shadow: 0px 1px 3px 1px rgba(0, 0, 0, 0.15);\n",
              "      filter: drop-shadow(0px 1px 2px rgba(0, 0, 0, 0.3));\n",
              "      fill: #FFFFFF;\n",
              "    }\n",
              "  </style>\n",
              "\n",
              "      <script>\n",
              "        const buttonEl =\n",
              "          document.querySelector('#df-5f023964-7b63-4917-b1fd-49b714553cc9 button.colab-df-convert');\n",
              "        buttonEl.style.display =\n",
              "          google.colab.kernel.accessAllowed ? 'block' : 'none';\n",
              "\n",
              "        async function convertToInteractive(key) {\n",
              "          const element = document.querySelector('#df-5f023964-7b63-4917-b1fd-49b714553cc9');\n",
              "          const dataTable =\n",
              "            await google.colab.kernel.invokeFunction('convertToInteractive',\n",
              "                                                     [key], {});\n",
              "          if (!dataTable) return;\n",
              "\n",
              "          const docLinkHtml = 'Like what you see? Visit the ' +\n",
              "            '<a target=\"_blank\" href=https://colab.research.google.com/notebooks/data_table.ipynb>data table notebook</a>'\n",
              "            + ' to learn more about interactive tables.';\n",
              "          element.innerHTML = '';\n",
              "          dataTable['output_type'] = 'display_data';\n",
              "          await google.colab.output.renderOutput(dataTable, element);\n",
              "          const docLink = document.createElement('div');\n",
              "          docLink.innerHTML = docLinkHtml;\n",
              "          element.appendChild(docLink);\n",
              "        }\n",
              "      </script>\n",
              "    </div>\n",
              "  </div>\n",
              "  "
            ]
          },
          "metadata": {},
          "execution_count": 5
        }
      ],
      "source": [
        "#Last five rows\n",
        "df.tail()\n",
        "# Last four rows "
      ]
    },
    {
      "cell_type": "code",
      "source": [
        "# checking the data types\n",
        "df.dtypes\n",
        "# The data comprises of integer and objects "
      ],
      "metadata": {
        "colab": {
          "base_uri": "https://localhost:8080/"
        },
        "id": "KXWXhgd06WRd",
        "outputId": "1cc2f0c5-eac2-4bfe-d1e2-15840119b5d0"
      },
      "execution_count": null,
      "outputs": [
        {
          "output_type": "execute_result",
          "data": {
            "text/plain": [
              "id              int64\n",
              "Airline        object\n",
              "Flight          int64\n",
              "AirportFrom    object\n",
              "AirportTo      object\n",
              "DayOfWeek       int64\n",
              "Time            int64\n",
              "Length          int64\n",
              "Delay           int64\n",
              "dtype: object"
            ]
          },
          "metadata": {},
          "execution_count": 6
        }
      ]
    },
    {
      "cell_type": "code",
      "source": [
        "# statistical insight \n",
        "df.describe()\n",
        "# A statistical summary of the columns "
      ],
      "metadata": {
        "colab": {
          "base_uri": "https://localhost:8080/",
          "height": 300
        },
        "id": "UlK_98Pf8CBz",
        "outputId": "77c0c0dc-4bf2-43ad-9a3a-7a01d274633f"
      },
      "execution_count": null,
      "outputs": [
        {
          "output_type": "execute_result",
          "data": {
            "text/plain": [
              "                  id         Flight      DayOfWeek           Time  \\\n",
              "count  539383.000000  539383.000000  539383.000000  539383.000000   \n",
              "mean   269692.000000    2427.928630       3.929668     802.728963   \n",
              "std    155706.604461    2067.429837       1.914664     278.045911   \n",
              "min         1.000000       1.000000       1.000000      10.000000   \n",
              "25%    134846.500000     712.000000       2.000000     565.000000   \n",
              "50%    269692.000000    1809.000000       4.000000     795.000000   \n",
              "75%    404537.500000    3745.000000       5.000000    1035.000000   \n",
              "max    539383.000000    7814.000000       7.000000    1439.000000   \n",
              "\n",
              "              Length          Delay  \n",
              "count  539383.000000  539383.000000  \n",
              "mean      132.202007       0.445442  \n",
              "std        70.117016       0.497015  \n",
              "min         0.000000       0.000000  \n",
              "25%        81.000000       0.000000  \n",
              "50%       115.000000       0.000000  \n",
              "75%       162.000000       1.000000  \n",
              "max       655.000000       1.000000  "
            ],
            "text/html": [
              "\n",
              "  <div id=\"df-a19b0432-c74d-4441-a7a7-0f97cdccb63b\">\n",
              "    <div class=\"colab-df-container\">\n",
              "      <div>\n",
              "<style scoped>\n",
              "    .dataframe tbody tr th:only-of-type {\n",
              "        vertical-align: middle;\n",
              "    }\n",
              "\n",
              "    .dataframe tbody tr th {\n",
              "        vertical-align: top;\n",
              "    }\n",
              "\n",
              "    .dataframe thead th {\n",
              "        text-align: right;\n",
              "    }\n",
              "</style>\n",
              "<table border=\"1\" class=\"dataframe\">\n",
              "  <thead>\n",
              "    <tr style=\"text-align: right;\">\n",
              "      <th></th>\n",
              "      <th>id</th>\n",
              "      <th>Flight</th>\n",
              "      <th>DayOfWeek</th>\n",
              "      <th>Time</th>\n",
              "      <th>Length</th>\n",
              "      <th>Delay</th>\n",
              "    </tr>\n",
              "  </thead>\n",
              "  <tbody>\n",
              "    <tr>\n",
              "      <th>count</th>\n",
              "      <td>539383.000000</td>\n",
              "      <td>539383.000000</td>\n",
              "      <td>539383.000000</td>\n",
              "      <td>539383.000000</td>\n",
              "      <td>539383.000000</td>\n",
              "      <td>539383.000000</td>\n",
              "    </tr>\n",
              "    <tr>\n",
              "      <th>mean</th>\n",
              "      <td>269692.000000</td>\n",
              "      <td>2427.928630</td>\n",
              "      <td>3.929668</td>\n",
              "      <td>802.728963</td>\n",
              "      <td>132.202007</td>\n",
              "      <td>0.445442</td>\n",
              "    </tr>\n",
              "    <tr>\n",
              "      <th>std</th>\n",
              "      <td>155706.604461</td>\n",
              "      <td>2067.429837</td>\n",
              "      <td>1.914664</td>\n",
              "      <td>278.045911</td>\n",
              "      <td>70.117016</td>\n",
              "      <td>0.497015</td>\n",
              "    </tr>\n",
              "    <tr>\n",
              "      <th>min</th>\n",
              "      <td>1.000000</td>\n",
              "      <td>1.000000</td>\n",
              "      <td>1.000000</td>\n",
              "      <td>10.000000</td>\n",
              "      <td>0.000000</td>\n",
              "      <td>0.000000</td>\n",
              "    </tr>\n",
              "    <tr>\n",
              "      <th>25%</th>\n",
              "      <td>134846.500000</td>\n",
              "      <td>712.000000</td>\n",
              "      <td>2.000000</td>\n",
              "      <td>565.000000</td>\n",
              "      <td>81.000000</td>\n",
              "      <td>0.000000</td>\n",
              "    </tr>\n",
              "    <tr>\n",
              "      <th>50%</th>\n",
              "      <td>269692.000000</td>\n",
              "      <td>1809.000000</td>\n",
              "      <td>4.000000</td>\n",
              "      <td>795.000000</td>\n",
              "      <td>115.000000</td>\n",
              "      <td>0.000000</td>\n",
              "    </tr>\n",
              "    <tr>\n",
              "      <th>75%</th>\n",
              "      <td>404537.500000</td>\n",
              "      <td>3745.000000</td>\n",
              "      <td>5.000000</td>\n",
              "      <td>1035.000000</td>\n",
              "      <td>162.000000</td>\n",
              "      <td>1.000000</td>\n",
              "    </tr>\n",
              "    <tr>\n",
              "      <th>max</th>\n",
              "      <td>539383.000000</td>\n",
              "      <td>7814.000000</td>\n",
              "      <td>7.000000</td>\n",
              "      <td>1439.000000</td>\n",
              "      <td>655.000000</td>\n",
              "      <td>1.000000</td>\n",
              "    </tr>\n",
              "  </tbody>\n",
              "</table>\n",
              "</div>\n",
              "      <button class=\"colab-df-convert\" onclick=\"convertToInteractive('df-a19b0432-c74d-4441-a7a7-0f97cdccb63b')\"\n",
              "              title=\"Convert this dataframe to an interactive table.\"\n",
              "              style=\"display:none;\">\n",
              "        \n",
              "  <svg xmlns=\"http://www.w3.org/2000/svg\" height=\"24px\"viewBox=\"0 0 24 24\"\n",
              "       width=\"24px\">\n",
              "    <path d=\"M0 0h24v24H0V0z\" fill=\"none\"/>\n",
              "    <path d=\"M18.56 5.44l.94 2.06.94-2.06 2.06-.94-2.06-.94-.94-2.06-.94 2.06-2.06.94zm-11 1L8.5 8.5l.94-2.06 2.06-.94-2.06-.94L8.5 2.5l-.94 2.06-2.06.94zm10 10l.94 2.06.94-2.06 2.06-.94-2.06-.94-.94-2.06-.94 2.06-2.06.94z\"/><path d=\"M17.41 7.96l-1.37-1.37c-.4-.4-.92-.59-1.43-.59-.52 0-1.04.2-1.43.59L10.3 9.45l-7.72 7.72c-.78.78-.78 2.05 0 2.83L4 21.41c.39.39.9.59 1.41.59.51 0 1.02-.2 1.41-.59l7.78-7.78 2.81-2.81c.8-.78.8-2.07 0-2.86zM5.41 20L4 18.59l7.72-7.72 1.47 1.35L5.41 20z\"/>\n",
              "  </svg>\n",
              "      </button>\n",
              "      \n",
              "  <style>\n",
              "    .colab-df-container {\n",
              "      display:flex;\n",
              "      flex-wrap:wrap;\n",
              "      gap: 12px;\n",
              "    }\n",
              "\n",
              "    .colab-df-convert {\n",
              "      background-color: #E8F0FE;\n",
              "      border: none;\n",
              "      border-radius: 50%;\n",
              "      cursor: pointer;\n",
              "      display: none;\n",
              "      fill: #1967D2;\n",
              "      height: 32px;\n",
              "      padding: 0 0 0 0;\n",
              "      width: 32px;\n",
              "    }\n",
              "\n",
              "    .colab-df-convert:hover {\n",
              "      background-color: #E2EBFA;\n",
              "      box-shadow: 0px 1px 2px rgba(60, 64, 67, 0.3), 0px 1px 3px 1px rgba(60, 64, 67, 0.15);\n",
              "      fill: #174EA6;\n",
              "    }\n",
              "\n",
              "    [theme=dark] .colab-df-convert {\n",
              "      background-color: #3B4455;\n",
              "      fill: #D2E3FC;\n",
              "    }\n",
              "\n",
              "    [theme=dark] .colab-df-convert:hover {\n",
              "      background-color: #434B5C;\n",
              "      box-shadow: 0px 1px 3px 1px rgba(0, 0, 0, 0.15);\n",
              "      filter: drop-shadow(0px 1px 2px rgba(0, 0, 0, 0.3));\n",
              "      fill: #FFFFFF;\n",
              "    }\n",
              "  </style>\n",
              "\n",
              "      <script>\n",
              "        const buttonEl =\n",
              "          document.querySelector('#df-a19b0432-c74d-4441-a7a7-0f97cdccb63b button.colab-df-convert');\n",
              "        buttonEl.style.display =\n",
              "          google.colab.kernel.accessAllowed ? 'block' : 'none';\n",
              "\n",
              "        async function convertToInteractive(key) {\n",
              "          const element = document.querySelector('#df-a19b0432-c74d-4441-a7a7-0f97cdccb63b');\n",
              "          const dataTable =\n",
              "            await google.colab.kernel.invokeFunction('convertToInteractive',\n",
              "                                                     [key], {});\n",
              "          if (!dataTable) return;\n",
              "\n",
              "          const docLinkHtml = 'Like what you see? Visit the ' +\n",
              "            '<a target=\"_blank\" href=https://colab.research.google.com/notebooks/data_table.ipynb>data table notebook</a>'\n",
              "            + ' to learn more about interactive tables.';\n",
              "          element.innerHTML = '';\n",
              "          dataTable['output_type'] = 'display_data';\n",
              "          await google.colab.output.renderOutput(dataTable, element);\n",
              "          const docLink = document.createElement('div');\n",
              "          docLink.innerHTML = docLinkHtml;\n",
              "          element.appendChild(docLink);\n",
              "        }\n",
              "      </script>\n",
              "    </div>\n",
              "  </div>\n",
              "  "
            ]
          },
          "metadata": {},
          "execution_count": 7
        }
      ]
    },
    {
      "cell_type": "markdown",
      "metadata": {
        "id": "_NUudLpsHqMj"
      },
      "source": [
        "## **Data Preparation and Cleaning**"
      ]
    },
    {
      "cell_type": "markdown",
      "metadata": {
        "id": "ptyScv5EII6Q"
      },
      "source": [
        "**1. Validity check**"
      ]
    },
    {
      "cell_type": "code",
      "execution_count": null,
      "metadata": {
        "id": "UoMP3gNXHNAo",
        "colab": {
          "base_uri": "https://localhost:8080/"
        },
        "outputId": "e74c1e4f-c5cb-4313-d75e-8c54971192be"
      },
      "outputs": [
        {
          "output_type": "execute_result",
          "data": {
            "text/plain": [
              "['id',\n",
              " 'Airline',\n",
              " 'Flight',\n",
              " 'AirportFrom',\n",
              " 'AirportTo',\n",
              " 'DayOfWeek',\n",
              " 'Time',\n",
              " 'Length',\n",
              " 'Delay']"
            ]
          },
          "metadata": {},
          "execution_count": 8
        }
      ],
      "source": [
        "#check how te columns look like\n",
        "df.columns.values.tolist()"
      ]
    },
    {
      "cell_type": "markdown",
      "metadata": {
        "id": "Z2_5RURvIM4P"
      },
      "source": [
        "**2. Accuracy check**"
      ]
    },
    {
      "cell_type": "code",
      "execution_count": null,
      "metadata": {
        "id": "BFToTnWnHM8w",
        "colab": {
          "base_uri": "https://localhost:8080/"
        },
        "outputId": "4fa564de-e475-4d29-f360-9f4f7a1d509b"
      },
      "outputs": [
        {
          "output_type": "stream",
          "name": "stdout",
          "text": [
            "<class 'pandas.core.frame.DataFrame'>\n",
            "RangeIndex: 539383 entries, 0 to 539382\n",
            "Data columns (total 9 columns):\n",
            " #   Column       Non-Null Count   Dtype \n",
            "---  ------       --------------   ----- \n",
            " 0   id           539383 non-null  int64 \n",
            " 1   Airline      539383 non-null  object\n",
            " 2   Flight       539383 non-null  int64 \n",
            " 3   AirportFrom  539383 non-null  object\n",
            " 4   AirportTo    539383 non-null  object\n",
            " 5   DayOfWeek    539383 non-null  int64 \n",
            " 6   Time         539383 non-null  int64 \n",
            " 7   Length       539383 non-null  int64 \n",
            " 8   Delay        539383 non-null  int64 \n",
            "dtypes: int64(6), object(3)\n",
            "memory usage: 37.0+ MB\n"
          ]
        }
      ],
      "source": [
        "# more information about our dataset\n",
        "df.info()"
      ]
    },
    {
      "cell_type": "markdown",
      "metadata": {
        "id": "3lNCcWuKISqw"
      },
      "source": [
        "**3. Completeness check**"
      ]
    },
    {
      "cell_type": "code",
      "execution_count": null,
      "metadata": {
        "id": "FBBPvJZ4HM4n",
        "colab": {
          "base_uri": "https://localhost:8080/"
        },
        "outputId": "43c41821-8c8e-4fe3-bae9-ce0725d38d7e"
      },
      "outputs": [
        {
          "output_type": "execute_result",
          "data": {
            "text/plain": [
              "0"
            ]
          },
          "metadata": {},
          "execution_count": 10
        }
      ],
      "source": [
        "#Check for null values\n",
        "df.isnull().sum().sum()"
      ]
    },
    {
      "cell_type": "markdown",
      "source": [
        "We have no null values"
      ],
      "metadata": {
        "id": "J9wW9-g99dvO"
      }
    },
    {
      "cell_type": "markdown",
      "metadata": {
        "id": "jhSKl9ARIb-F"
      },
      "source": [
        "**4. Consistency check**"
      ]
    },
    {
      "cell_type": "code",
      "execution_count": null,
      "metadata": {
        "id": "d1-eOCWTHMxU",
        "colab": {
          "base_uri": "https://localhost:8080/"
        },
        "outputId": "f7e39937-18f0-486b-961c-1ec2ea509412"
      },
      "outputs": [
        {
          "output_type": "execute_result",
          "data": {
            "text/plain": [
              "0"
            ]
          },
          "metadata": {},
          "execution_count": 11
        }
      ],
      "source": [
        "#We check if we have any duplicates\n",
        "df.duplicated().sum()"
      ]
    },
    {
      "cell_type": "markdown",
      "source": [
        "We have no duplicates"
      ],
      "metadata": {
        "id": "5v5c_1bC9aOA"
      }
    },
    {
      "cell_type": "markdown",
      "metadata": {
        "id": "j6nvdcbmIh6n"
      },
      "source": [
        "**5. Uniformity check**"
      ]
    },
    {
      "cell_type": "code",
      "execution_count": null,
      "metadata": {
        "id": "d1MWD3DEHMtG",
        "colab": {
          "base_uri": "https://localhost:8080/"
        },
        "outputId": "72935cc7-31cc-4352-9d0e-7d9ffd45d489"
      },
      "outputs": [
        {
          "output_type": "execute_result",
          "data": {
            "text/plain": [
              "['id',\n",
              " 'Airline',\n",
              " 'Flight',\n",
              " 'AirportFrom',\n",
              " 'AirportTo',\n",
              " 'DayOfWeek',\n",
              " 'Time',\n",
              " 'Length',\n",
              " 'Delay']"
            ]
          },
          "metadata": {},
          "execution_count": 12
        }
      ],
      "source": [
        "#view our columns\n",
        "df.columns.values.tolist()"
      ]
    },
    {
      "cell_type": "code",
      "execution_count": null,
      "metadata": {
        "id": "sPi_npWkPaq5",
        "colab": {
          "base_uri": "https://localhost:8080/",
          "height": 112
        },
        "outputId": "798578d3-e05e-4cfe-c211-e49be2d33fac"
      },
      "outputs": [
        {
          "output_type": "execute_result",
          "data": {
            "text/plain": [
              "  Airline  Flight AirportFrom AirportTo  DayOfWeek  Time  Length  Delay\n",
              "0      CO     269         SFO       IAH          3    15     205      1\n",
              "1      US    1558         PHX       CLT          3    15     222      1"
            ],
            "text/html": [
              "\n",
              "  <div id=\"df-2cbc7b1e-a902-4f03-88f3-75eba768495c\">\n",
              "    <div class=\"colab-df-container\">\n",
              "      <div>\n",
              "<style scoped>\n",
              "    .dataframe tbody tr th:only-of-type {\n",
              "        vertical-align: middle;\n",
              "    }\n",
              "\n",
              "    .dataframe tbody tr th {\n",
              "        vertical-align: top;\n",
              "    }\n",
              "\n",
              "    .dataframe thead th {\n",
              "        text-align: right;\n",
              "    }\n",
              "</style>\n",
              "<table border=\"1\" class=\"dataframe\">\n",
              "  <thead>\n",
              "    <tr style=\"text-align: right;\">\n",
              "      <th></th>\n",
              "      <th>Airline</th>\n",
              "      <th>Flight</th>\n",
              "      <th>AirportFrom</th>\n",
              "      <th>AirportTo</th>\n",
              "      <th>DayOfWeek</th>\n",
              "      <th>Time</th>\n",
              "      <th>Length</th>\n",
              "      <th>Delay</th>\n",
              "    </tr>\n",
              "  </thead>\n",
              "  <tbody>\n",
              "    <tr>\n",
              "      <th>0</th>\n",
              "      <td>CO</td>\n",
              "      <td>269</td>\n",
              "      <td>SFO</td>\n",
              "      <td>IAH</td>\n",
              "      <td>3</td>\n",
              "      <td>15</td>\n",
              "      <td>205</td>\n",
              "      <td>1</td>\n",
              "    </tr>\n",
              "    <tr>\n",
              "      <th>1</th>\n",
              "      <td>US</td>\n",
              "      <td>1558</td>\n",
              "      <td>PHX</td>\n",
              "      <td>CLT</td>\n",
              "      <td>3</td>\n",
              "      <td>15</td>\n",
              "      <td>222</td>\n",
              "      <td>1</td>\n",
              "    </tr>\n",
              "  </tbody>\n",
              "</table>\n",
              "</div>\n",
              "      <button class=\"colab-df-convert\" onclick=\"convertToInteractive('df-2cbc7b1e-a902-4f03-88f3-75eba768495c')\"\n",
              "              title=\"Convert this dataframe to an interactive table.\"\n",
              "              style=\"display:none;\">\n",
              "        \n",
              "  <svg xmlns=\"http://www.w3.org/2000/svg\" height=\"24px\"viewBox=\"0 0 24 24\"\n",
              "       width=\"24px\">\n",
              "    <path d=\"M0 0h24v24H0V0z\" fill=\"none\"/>\n",
              "    <path d=\"M18.56 5.44l.94 2.06.94-2.06 2.06-.94-2.06-.94-.94-2.06-.94 2.06-2.06.94zm-11 1L8.5 8.5l.94-2.06 2.06-.94-2.06-.94L8.5 2.5l-.94 2.06-2.06.94zm10 10l.94 2.06.94-2.06 2.06-.94-2.06-.94-.94-2.06-.94 2.06-2.06.94z\"/><path d=\"M17.41 7.96l-1.37-1.37c-.4-.4-.92-.59-1.43-.59-.52 0-1.04.2-1.43.59L10.3 9.45l-7.72 7.72c-.78.78-.78 2.05 0 2.83L4 21.41c.39.39.9.59 1.41.59.51 0 1.02-.2 1.41-.59l7.78-7.78 2.81-2.81c.8-.78.8-2.07 0-2.86zM5.41 20L4 18.59l7.72-7.72 1.47 1.35L5.41 20z\"/>\n",
              "  </svg>\n",
              "      </button>\n",
              "      \n",
              "  <style>\n",
              "    .colab-df-container {\n",
              "      display:flex;\n",
              "      flex-wrap:wrap;\n",
              "      gap: 12px;\n",
              "    }\n",
              "\n",
              "    .colab-df-convert {\n",
              "      background-color: #E8F0FE;\n",
              "      border: none;\n",
              "      border-radius: 50%;\n",
              "      cursor: pointer;\n",
              "      display: none;\n",
              "      fill: #1967D2;\n",
              "      height: 32px;\n",
              "      padding: 0 0 0 0;\n",
              "      width: 32px;\n",
              "    }\n",
              "\n",
              "    .colab-df-convert:hover {\n",
              "      background-color: #E2EBFA;\n",
              "      box-shadow: 0px 1px 2px rgba(60, 64, 67, 0.3), 0px 1px 3px 1px rgba(60, 64, 67, 0.15);\n",
              "      fill: #174EA6;\n",
              "    }\n",
              "\n",
              "    [theme=dark] .colab-df-convert {\n",
              "      background-color: #3B4455;\n",
              "      fill: #D2E3FC;\n",
              "    }\n",
              "\n",
              "    [theme=dark] .colab-df-convert:hover {\n",
              "      background-color: #434B5C;\n",
              "      box-shadow: 0px 1px 3px 1px rgba(0, 0, 0, 0.15);\n",
              "      filter: drop-shadow(0px 1px 2px rgba(0, 0, 0, 0.3));\n",
              "      fill: #FFFFFF;\n",
              "    }\n",
              "  </style>\n",
              "\n",
              "      <script>\n",
              "        const buttonEl =\n",
              "          document.querySelector('#df-2cbc7b1e-a902-4f03-88f3-75eba768495c button.colab-df-convert');\n",
              "        buttonEl.style.display =\n",
              "          google.colab.kernel.accessAllowed ? 'block' : 'none';\n",
              "\n",
              "        async function convertToInteractive(key) {\n",
              "          const element = document.querySelector('#df-2cbc7b1e-a902-4f03-88f3-75eba768495c');\n",
              "          const dataTable =\n",
              "            await google.colab.kernel.invokeFunction('convertToInteractive',\n",
              "                                                     [key], {});\n",
              "          if (!dataTable) return;\n",
              "\n",
              "          const docLinkHtml = 'Like what you see? Visit the ' +\n",
              "            '<a target=\"_blank\" href=https://colab.research.google.com/notebooks/data_table.ipynb>data table notebook</a>'\n",
              "            + ' to learn more about interactive tables.';\n",
              "          element.innerHTML = '';\n",
              "          dataTable['output_type'] = 'display_data';\n",
              "          await google.colab.output.renderOutput(dataTable, element);\n",
              "          const docLink = document.createElement('div');\n",
              "          docLink.innerHTML = docLinkHtml;\n",
              "          element.appendChild(docLink);\n",
              "        }\n",
              "      </script>\n",
              "    </div>\n",
              "  </div>\n",
              "  "
            ]
          },
          "metadata": {},
          "execution_count": 13
        }
      ],
      "source": [
        "#We don't need the Id column so we drop it\n",
        "df1 = df.drop(['id'], axis=1)\n",
        "df1.head(2)"
      ]
    },
    {
      "cell_type": "code",
      "source": [
        "# Checking outliers\n",
        "\n",
        "q1 = df.quantile(0.25)\n",
        "q3 = df.quantile(0.75)\n",
        "iqr = q3 - q1\n",
        "outliers = df[((df < (q1 - 1.5*iqr))|(df > (q3 + 1.5*iqr)))]\n",
        "outliers.count()\n",
        "\n",
        "# There are no outliers in all the other columns other than the length column.\n",
        "# We will however not drop these outliers since it is possible to have delays that are too long."
      ],
      "metadata": {
        "colab": {
          "base_uri": "https://localhost:8080/"
        },
        "id": "u3JhOqXv817u",
        "outputId": "cf78e8f8-609d-4fdb-d525-8c68a6167f6e"
      },
      "execution_count": null,
      "outputs": [
        {
          "output_type": "execute_result",
          "data": {
            "text/plain": [
              "id                 0\n",
              "Airline            0\n",
              "Flight             0\n",
              "AirportFrom        0\n",
              "AirportTo          0\n",
              "DayOfWeek          0\n",
              "Time               0\n",
              "Length         25650\n",
              "Delay              0\n",
              "dtype: int64"
            ]
          },
          "metadata": {},
          "execution_count": 14
        }
      ]
    },
    {
      "cell_type": "code",
      "source": [
        "# Plot showing outliers in delay \n",
        " \n",
        "fig = plt.figure(figsize=(12,4))\n",
        "sns.boxplot(x = 'Length', color= 'Teal', data = df)\n",
        "plt.title('A boxplot of Length')\n",
        "plt.show()"
      ],
      "metadata": {
        "id": "x7ZsZAdM4jZ4",
        "colab": {
          "base_uri": "https://localhost:8080/",
          "height": 295
        },
        "outputId": "7654ce49-8b30-4a06-8e7f-3c2884e65eff"
      },
      "execution_count": null,
      "outputs": [
        {
          "output_type": "display_data",
          "data": {
            "text/plain": [
              "<Figure size 864x288 with 1 Axes>"
            ],
            "image/png": "[encoded data removed]"
          },
          "metadata": {
            "needs_background": "light"
          }
        }
      ]
    },
    {
      "cell_type": "code",
      "source": [
        "#Viewing outliers in length for delay\n",
        "fig = plt.figure(figsize=(5,8))\n",
        "sns.boxplot(x = 'Delay', y = 'Length', palette = \"cividis\", data = df1)\n",
        "plt.title('A boxplot of Length and Delay ')\n",
        "plt.show()"
      ],
      "metadata": {
        "id": "8ierp6FK7vtz",
        "colab": {
          "base_uri": "https://localhost:8080/",
          "height": 513
        },
        "outputId": "a0f5f679-89a1-475b-ed79-e9365ba71d7f"
      },
      "execution_count": null,
      "outputs": [
        {
          "output_type": "display_data",
          "data": {
            "text/plain": [
              "<Figure size 360x576 with 1 Axes>"
            ],
            "image/png": "[encoded data removed]"
          },
          "metadata": {
            "needs_background": "light"
          }
        }
      ]
    },
    {
      "cell_type": "markdown",
      "source": [
        "We have both delay and non delays having outliers due to various causes of delays like; Security reasons, Weather, Technical reasons- airplane parts etc, Flight crew delays. "
      ],
      "metadata": {
        "id": "Ua3hcm-b8IaA"
      }
    },
    {
      "cell_type": "code",
      "source": [
        "#Checking if there are flights making more trips than others\n",
        "df1['Flight'].value_counts()"
      ],
      "metadata": {
        "id": "VbJg40qH49U8",
        "colab": {
          "base_uri": "https://localhost:8080/"
        },
        "outputId": "3e16c8fd-7a6a-4b8f-8c51-a69d5c8c8281"
      },
      "execution_count": null,
      "outputs": [
        {
          "output_type": "execute_result",
          "data": {
            "text/plain": [
              "16      420\n",
              "5       407\n",
              "9       401\n",
              "8       396\n",
              "62      364\n",
              "       ... \n",
              "7814      1\n",
              "3573      1\n",
              "4385      1\n",
              "3292      1\n",
              "6969      1\n",
              "Name: Flight, Length: 6585, dtype: int64"
            ]
          },
          "metadata": {},
          "execution_count": 17
        }
      ]
    },
    {
      "cell_type": "markdown",
      "source": [
        "Flight 16 makes the most trips while Flights like 6969 which only made one trip"
      ],
      "metadata": {
        "id": "6S3QMYfn9Nas"
      }
    },
    {
      "cell_type": "markdown",
      "metadata": {
        "id": "0EZjLv7-Iq5J"
      },
      "source": [
        "## **EXPLORATORY DATA ANALYSIS**"
      ]
    },
    {
      "cell_type": "markdown",
      "metadata": {
        "id": "Kz_NRyYKIt58"
      },
      "source": [
        "### **1. Univariate Analysis**"
      ]
    },
    {
      "cell_type": "code",
      "execution_count": null,
      "metadata": {
        "id": "WRVrDh3yS2t-",
        "colab": {
          "base_uri": "https://localhost:8080/",
          "height": 296
        },
        "outputId": "89d42ef2-28fa-446d-8eab-417ef4ebc278"
      },
      "outputs": [
        {
          "output_type": "execute_result",
          "data": {
            "text/plain": [
              "<matplotlib.axes._subplots.AxesSubplot at 0x7fe2d81b4810>"
            ]
          },
          "metadata": {},
          "execution_count": 18
        },
        {
          "output_type": "display_data",
          "data": {
            "text/plain": [
              "<Figure size 432x288 with 1 Axes>"
            ],
            "image/png": "[encoded data removed]"
          },
          "metadata": {
            "needs_background": "light"
          }
        }
      ],
      "source": [
        "#Airline counts visual\n",
        "sns.countplot(x='Airline',data=df1, palette='hls')"
      ]
    },
    {
      "cell_type": "markdown",
      "source": [
        "WN(Westjet Airline) airline had the most trips made while HA(Hawaiian Airlines) had the least."
      ],
      "metadata": {
        "id": "amxSLRLo9zOK"
      }
    },
    {
      "cell_type": "code",
      "execution_count": null,
      "metadata": {
        "id": "-rbRi7kJIsk6",
        "colab": {
          "base_uri": "https://localhost:8080/",
          "height": 296
        },
        "outputId": "38c752d8-d4da-4c2c-ba14-8b9ddfacc536"
      },
      "outputs": [
        {
          "output_type": "execute_result",
          "data": {
            "text/plain": [
              "<matplotlib.axes._subplots.AxesSubplot at 0x7fe2d80f9b10>"
            ]
          },
          "metadata": {},
          "execution_count": 19
        },
        {
          "output_type": "display_data",
          "data": {
            "text/plain": [
              "<Figure size 432x288 with 1 Axes>"
            ],
            "image/png": "[encoded data removed]"
          },
          "metadata": {
            "needs_background": "light"
          }
        }
      ],
      "source": [
        "#Class label counts visual\n",
        "sns.countplot(x='Delay',data=df1, palette='hls')"
      ]
    },
    {
      "cell_type": "markdown",
      "metadata": {
        "id": "0af5A_zZQv9J"
      },
      "source": [
        "This also implies that this will be a binary classification problem where a **“0”** means that the flight arrives on time, and **“1”** that the flight will be delayed.\n",
        "\n",
        "We can also see more flights were on time compared to those delayed"
      ]
    },
    {
      "cell_type": "code",
      "execution_count": null,
      "metadata": {
        "id": "yyAdwXAJQ8Tb",
        "colab": {
          "base_uri": "https://localhost:8080/",
          "height": 296
        },
        "outputId": "b259c4ac-b8e9-453c-e270-793a4e56301e"
      },
      "outputs": [
        {
          "output_type": "execute_result",
          "data": {
            "text/plain": [
              "<matplotlib.axes._subplots.AxesSubplot at 0x7fe2d8059e50>"
            ]
          },
          "metadata": {},
          "execution_count": 20
        },
        {
          "output_type": "display_data",
          "data": {
            "text/plain": [
              "<Figure size 432x288 with 1 Axes>"
            ],
            "image/png": "[encoded data removed]"
          },
          "metadata": {
            "needs_background": "light"
          }
        }
      ],
      "source": [
        "#Day of week counts visual\n",
        "sns.countplot(x='DayOfWeek',data=df1, palette='hls')"
      ]
    },
    {
      "cell_type": "markdown",
      "metadata": {
        "id": "vhdpK3mIRdUm"
      },
      "source": [
        "There were more flights on the fourth day of the week and least on the sixth day of the week"
      ]
    },
    {
      "cell_type": "code",
      "execution_count": null,
      "metadata": {
        "id": "90qex38lQ8K2",
        "colab": {
          "base_uri": "https://localhost:8080/",
          "height": 337
        },
        "outputId": "8148a03a-87ab-4ea1-ba93-5d1ea7fade06"
      },
      "outputs": [
        {
          "output_type": "execute_result",
          "data": {
            "text/plain": [
              "<matplotlib.axes._subplots.AxesSubplot at 0x7fe2d7fa7f90>"
            ]
          },
          "metadata": {},
          "execution_count": 21
        },
        {
          "output_type": "display_data",
          "data": {
            "text/plain": [
              "<Figure size 720x360 with 1 Axes>"
            ],
            "image/png": "[encoded data removed]"
          },
          "metadata": {
            "needs_background": "light"
          }
        }
      ],
      "source": [
        "#Time Distribution plot\n",
        "df1['Time'].hist(bins = 30, figsize = (10,5), color = 'blue')"
      ]
    },
    {
      "cell_type": "markdown",
      "source": [
        "The time is set in 24hr format and most trip occured between 0400hr to 1200hrs"
      ],
      "metadata": {
        "id": "31dtmOAD-fJd"
      }
    },
    {
      "cell_type": "code",
      "execution_count": null,
      "metadata": {
        "id": "uwO1FbhzSrNY",
        "colab": {
          "base_uri": "https://localhost:8080/",
          "height": 349
        },
        "outputId": "700c8244-667f-4971-e6d7-46bd60f117ed"
      },
      "outputs": [
        {
          "output_type": "display_data",
          "data": {
            "text/plain": [
              "<Figure size 720x360 with 1 Axes>"
            ],
            "image/png": "[encoded data removed]"
          },
          "metadata": {}
        }
      ],
      "source": [
        "#Length Distribution plot\n",
        "df1['Length'].hist(bins = 30, figsize = (10,5), color = 'blue')\n",
        "plt.title('Histogram of Flight Delay Time Length', fontsize=20)\n",
        "plt.xlabel('Delay Time Length in Mins', fontsize=14)\n",
        "plt.ylabel('Flight Count', fontsize=14)\n",
        "plt.tight_layout()\n",
        "plt.show()"
      ]
    },
    {
      "cell_type": "markdown",
      "source": [
        "Most delay time length was between 50min to 200minutes"
      ],
      "metadata": {
        "id": "y6psqilSB4nm"
      }
    },
    {
      "cell_type": "markdown",
      "metadata": {
        "id": "Xq-NLzZCIyhL"
      },
      "source": [
        "### **2. Bivariate Analysis**"
      ]
    },
    {
      "cell_type": "code",
      "execution_count": null,
      "metadata": {
        "id": "06sLnMxWI1ri",
        "colab": {
          "base_uri": "https://localhost:8080/",
          "height": 565
        },
        "outputId": "f989af28-4a7f-4ee5-ec8c-99fa3581ff96"
      },
      "outputs": [
        {
          "output_type": "display_data",
          "data": {
            "text/plain": [
              "<Figure size 720x576 with 1 Axes>"
            ],
            "image/png": "[encoded data removed]"
          },
          "metadata": {
            "needs_background": "light"
          }
        }
      ],
      "source": [
        "#Total number of flights from a specific airport\n",
        "plt.figure(figsize=(10, 8))\n",
        "sns.set(font_scale=1.6)\n",
        "axis = sns.countplot(x=df1['AirportFrom'], data=df1, order=df1['AirportFrom'].value_counts().iloc[0:20].index, orient=\"v\")\n",
        "axis.set_xticklabels(axis.get_xticklabels(), rotation=90, ha='right')\n",
        "plt.title('TOTAL NUMBER OF Air port From', fontsize=24)\n",
        "plt.xlabel('Air Port From', fontsize=18)\n",
        "plt.ylabel('NUMBER OF FLIGHTS', fontsize=18)\n",
        "plt.tight_layout()\n",
        "plt.show()"
      ]
    },
    {
      "cell_type": "markdown",
      "source": [
        "There were more flights from ATL (Hartsfield-Jackson Atlanta International Airport - Georgia\n",
        ") airport"
      ],
      "metadata": {
        "id": "ERXpaPUjDJxW"
      }
    },
    {
      "cell_type": "code",
      "execution_count": null,
      "metadata": {
        "id": "3ecgjuAvUDoY",
        "colab": {
          "base_uri": "https://localhost:8080/",
          "height": 565
        },
        "outputId": "fc094e6b-43e0-47ee-fbe4-70bd3a5bf598"
      },
      "outputs": [
        {
          "output_type": "display_data",
          "data": {
            "text/plain": [
              "<Figure size 720x576 with 1 Axes>"
            ],
            "image/png": "[encoded data removed]"
          },
          "metadata": {}
        }
      ],
      "source": [
        "#Count of air port to by varies flights\n",
        "plt.figure(figsize=(10, 8))\n",
        "sns.set(font_scale=1.6)\n",
        "axis = sns.countplot(x=df1['AirportTo'], data=df1, order=df1['AirportTo'].value_counts().iloc[0:20].index, orient=\"v\")\n",
        "axis.set_xticklabels(axis.get_xticklabels(), rotation=90, ha='right')\n",
        "plt.title('TOTAL NUMBER OF Air port To', fontsize=24)\n",
        "plt.xlabel('Air Port To', fontsize=18)\n",
        "plt.ylabel('NUMBER OF FLIGHTS', fontsize=18)\n",
        "plt.tight_layout()\n",
        "plt.show()"
      ]
    },
    {
      "cell_type": "markdown",
      "source": [
        "There were more flights to ATL (Hartsfield-Jackson Atlanta International Airport - Georgia ) airport. This expected since the busy the departure so is the arrivals"
      ],
      "metadata": {
        "id": "BeGjOIIKDaXL"
      }
    },
    {
      "cell_type": "code",
      "source": [
        "#Airport From with the least traffic\n",
        "plt.figure(figsize=(10, 8))\n",
        "sns.set(font_scale=1.6)\n",
        "axis = sns.countplot(x=df1['AirportFrom'], data=df1, order=df1['AirportFrom'].value_counts().tail(30).index, orient=\"v\")\n",
        "axis.set_xticklabels(axis.get_xticklabels(), rotation=90, ha='right')\n",
        "plt.title('TOTAL NUMBER OF Air port From', fontsize=24)\n",
        "plt.xlabel('Air Port From', fontsize=18)\n",
        "plt.ylabel('NUMBER OF FLIGHTS', fontsize=18)\n",
        "plt.tight_layout()\n",
        "plt.show()"
      ],
      "metadata": {
        "id": "1z58bvFIFrF0",
        "colab": {
          "base_uri": "https://localhost:8080/",
          "height": 565
        },
        "outputId": "4e840426-08ca-4705-dd78-aea2cf7899c3"
      },
      "execution_count": null,
      "outputs": [
        {
          "output_type": "display_data",
          "data": {
            "text/plain": [
              "<Figure size 720x576 with 1 Axes>"
            ],
            "image/png": "[encoded data removed]"
          },
          "metadata": {}
        }
      ]
    },
    {
      "cell_type": "code",
      "source": [
        "#Airport To with the least traffic\n",
        "plt.figure(figsize=(10, 8))\n",
        "sns.set(font_scale=1.6)\n",
        "axis = sns.countplot(x=df1['AirportTo'], data=df1, order=df1['AirportTo'].value_counts().tail(30).index, orient=\"v\")\n",
        "axis.set_xticklabels(axis.get_xticklabels(), rotation=90, ha='right')\n",
        "plt.title('TOTAL NUMBER OF Air port To', fontsize=24)\n",
        "plt.xlabel('Air Port To', fontsize=18)\n",
        "plt.ylabel('NUMBER OF FLIGHTS', fontsize=18)\n",
        "plt.tight_layout()\n",
        "plt.show()"
      ],
      "metadata": {
        "id": "ZAGxFFXqF7wh",
        "colab": {
          "base_uri": "https://localhost:8080/",
          "height": 565
        },
        "outputId": "b7b0fdd5-c6f0-47de-d9a4-82266dc44bfe"
      },
      "execution_count": null,
      "outputs": [
        {
          "output_type": "display_data",
          "data": {
            "text/plain": [
              "<Figure size 720x576 with 1 Axes>"
            ],
            "image/png": "[encoded data removed]"
          },
          "metadata": {}
        }
      ]
    },
    {
      "cell_type": "markdown",
      "source": [
        "ABR(Aberdeen Regional Airport), ADK(Adak Airport) and GUM(Antonio B. Won Pat International Airport) were the airpot with the least traffic (number of flights in and out). This is expected since there location is most scarcely populated area ie SOuth Dakota, Guam and ALaska"
      ],
      "metadata": {
        "id": "pGa1on3WGNE4"
      }
    },
    {
      "cell_type": "markdown",
      "metadata": {
        "id": "byOES5i1KTlW"
      },
      "source": [
        "## **Which airport from has the most delays.**"
      ]
    },
    {
      "cell_type": "code",
      "execution_count": null,
      "metadata": {
        "id": "wUvjovmmYUZN",
        "colab": {
          "base_uri": "https://localhost:8080/",
          "height": 424
        },
        "outputId": "c3912de8-d7bd-4031-d7b7-54668428fce6"
      },
      "outputs": [
        {
          "output_type": "display_data",
          "data": {
            "text/plain": [
              "    AirportFrom      Length\n",
              "125         GUM  430.000000\n",
              "260         SJU  230.462269\n",
              "37          BQN  219.875912\n",
              "269         STT  219.754098\n",
              "148         JFK  212.970198\n",
              "..          ...         ...\n",
              "5           ACT   45.000000\n",
              "57          CLD   39.938650\n",
              "191         MOD   35.118056\n",
              "226         PSG   35.050847\n",
              "289         WRG   31.881356\n",
              "\n",
              "[293 rows x 2 columns]"
            ],
            "text/html": [
              "\n",
              "  <div id=\"df-1d1861db-841b-47fe-973a-b6b841c8cee2\">\n",
              "    <div class=\"colab-df-container\">\n",
              "      <div>\n",
              "<style scoped>\n",
              "    .dataframe tbody tr th:only-of-type {\n",
              "        vertical-align: middle;\n",
              "    }\n",
              "\n",
              "    .dataframe tbody tr th {\n",
              "        vertical-align: top;\n",
              "    }\n",
              "\n",
              "    .dataframe thead th {\n",
              "        text-align: right;\n",
              "    }\n",
              "</style>\n",
              "<table border=\"1\" class=\"dataframe\">\n",
              "  <thead>\n",
              "    <tr style=\"text-align: right;\">\n",
              "      <th></th>\n",
              "      <th>AirportFrom</th>\n",
              "      <th>Length</th>\n",
              "    </tr>\n",
              "  </thead>\n",
              "  <tbody>\n",
              "    <tr>\n",
              "      <th>125</th>\n",
              "      <td>GUM</td>\n",
              "      <td>430.000000</td>\n",
              "    </tr>\n",
              "    <tr>\n",
              "      <th>260</th>\n",
              "      <td>SJU</td>\n",
              "      <td>230.462269</td>\n",
              "    </tr>\n",
              "    <tr>\n",
              "      <th>37</th>\n",
              "      <td>BQN</td>\n",
              "      <td>219.875912</td>\n",
              "    </tr>\n",
              "    <tr>\n",
              "      <th>269</th>\n",
              "      <td>STT</td>\n",
              "      <td>219.754098</td>\n",
              "    </tr>\n",
              "    <tr>\n",
              "      <th>148</th>\n",
              "      <td>JFK</td>\n",
              "      <td>212.970198</td>\n",
              "    </tr>\n",
              "    <tr>\n",
              "      <th>...</th>\n",
              "      <td>...</td>\n",
              "      <td>...</td>\n",
              "    </tr>\n",
              "    <tr>\n",
              "      <th>5</th>\n",
              "      <td>ACT</td>\n",
              "      <td>45.000000</td>\n",
              "    </tr>\n",
              "    <tr>\n",
              "      <th>57</th>\n",
              "      <td>CLD</td>\n",
              "      <td>39.938650</td>\n",
              "    </tr>\n",
              "    <tr>\n",
              "      <th>191</th>\n",
              "      <td>MOD</td>\n",
              "      <td>35.118056</td>\n",
              "    </tr>\n",
              "    <tr>\n",
              "      <th>226</th>\n",
              "      <td>PSG</td>\n",
              "      <td>35.050847</td>\n",
              "    </tr>\n",
              "    <tr>\n",
              "      <th>289</th>\n",
              "      <td>WRG</td>\n",
              "      <td>31.881356</td>\n",
              "    </tr>\n",
              "  </tbody>\n",
              "</table>\n",
              "<p>293 rows × 2 columns</p>\n",
              "</div>\n",
              "      <button class=\"colab-df-convert\" onclick=\"convertToInteractive('df-1d1861db-841b-47fe-973a-b6b841c8cee2')\"\n",
              "              title=\"Convert this dataframe to an interactive table.\"\n",
              "              style=\"display:none;\">\n",
              "        \n",
              "  <svg xmlns=\"http://www.w3.org/2000/svg\" height=\"24px\"viewBox=\"0 0 24 24\"\n",
              "       width=\"24px\">\n",
              "    <path d=\"M0 0h24v24H0V0z\" fill=\"none\"/>\n",
              "    <path d=\"M18.56 5.44l.94 2.06.94-2.06 2.06-.94-2.06-.94-.94-2.06-.94 2.06-2.06.94zm-11 1L8.5 8.5l.94-2.06 2.06-.94-2.06-.94L8.5 2.5l-.94 2.06-2.06.94zm10 10l.94 2.06.94-2.06 2.06-.94-2.06-.94-.94-2.06-.94 2.06-2.06.94z\"/><path d=\"M17.41 7.96l-1.37-1.37c-.4-.4-.92-.59-1.43-.59-.52 0-1.04.2-1.43.59L10.3 9.45l-7.72 7.72c-.78.78-.78 2.05 0 2.83L4 21.41c.39.39.9.59 1.41.59.51 0 1.02-.2 1.41-.59l7.78-7.78 2.81-2.81c.8-.78.8-2.07 0-2.86zM5.41 20L4 18.59l7.72-7.72 1.47 1.35L5.41 20z\"/>\n",
              "  </svg>\n",
              "      </button>\n",
              "      \n",
              "  <style>\n",
              "    .colab-df-container {\n",
              "      display:flex;\n",
              "      flex-wrap:wrap;\n",
              "      gap: 12px;\n",
              "    }\n",
              "\n",
              "    .colab-df-convert {\n",
              "      background-color: #E8F0FE;\n",
              "      border: none;\n",
              "      border-radius: 50%;\n",
              "      cursor: pointer;\n",
              "      display: none;\n",
              "      fill: #1967D2;\n",
              "      height: 32px;\n",
              "      padding: 0 0 0 0;\n",
              "      width: 32px;\n",
              "    }\n",
              "\n",
              "    .colab-df-convert:hover {\n",
              "      background-color: #E2EBFA;\n",
              "      box-shadow: 0px 1px 2px rgba(60, 64, 67, 0.3), 0px 1px 3px 1px rgba(60, 64, 67, 0.15);\n",
              "      fill: #174EA6;\n",
              "    }\n",
              "\n",
              "    [theme=dark] .colab-df-convert {\n",
              "      background-color: #3B4455;\n",
              "      fill: #D2E3FC;\n",
              "    }\n",
              "\n",
              "    [theme=dark] .colab-df-convert:hover {\n",
              "      background-color: #434B5C;\n",
              "      box-shadow: 0px 1px 3px 1px rgba(0, 0, 0, 0.15);\n",
              "      filter: drop-shadow(0px 1px 2px rgba(0, 0, 0, 0.3));\n",
              "      fill: #FFFFFF;\n",
              "    }\n",
              "  </style>\n",
              "\n",
              "      <script>\n",
              "        const buttonEl =\n",
              "          document.querySelector('#df-1d1861db-841b-47fe-973a-b6b841c8cee2 button.colab-df-convert');\n",
              "        buttonEl.style.display =\n",
              "          google.colab.kernel.accessAllowed ? 'block' : 'none';\n",
              "\n",
              "        async function convertToInteractive(key) {\n",
              "          const element = document.querySelector('#df-1d1861db-841b-47fe-973a-b6b841c8cee2');\n",
              "          const dataTable =\n",
              "            await google.colab.kernel.invokeFunction('convertToInteractive',\n",
              "                                                     [key], {});\n",
              "          if (!dataTable) return;\n",
              "\n",
              "          const docLinkHtml = 'Like what you see? Visit the ' +\n",
              "            '<a target=\"_blank\" href=https://colab.research.google.com/notebooks/data_table.ipynb>data table notebook</a>'\n",
              "            + ' to learn more about interactive tables.';\n",
              "          element.innerHTML = '';\n",
              "          dataTable['output_type'] = 'display_data';\n",
              "          await google.colab.output.renderOutput(dataTable, element);\n",
              "          const docLink = document.createElement('div');\n",
              "          docLink.innerHTML = docLinkHtml;\n",
              "          element.appendChild(docLink);\n",
              "        }\n",
              "      </script>\n",
              "    </div>\n",
              "  </div>\n",
              "  "
            ]
          },
          "metadata": {}
        }
      ],
      "source": [
        "data=df1.groupby('AirportFrom',as_index=False).mean().sort_values('Length',ascending=False)[['AirportFrom','Length']]\n",
        "display(data)\n",
        "\n",
        "# SJU airport from has the most delays with an average of 229.667073 minutes in delay.\n",
        "# The table also shows the first and the last five airports and their average delays in minutes. "
      ]
    },
    {
      "cell_type": "code",
      "execution_count": null,
      "metadata": {
        "id": "vWMi0tQFKtqA",
        "colab": {
          "base_uri": "https://localhost:8080/",
          "height": 646
        },
        "outputId": "fbb6b4f9-ecac-4e82-b941-574d0ae0adc6"
      },
      "outputs": [
        {
          "output_type": "display_data",
          "data": {
            "text/plain": [
              "<Figure size 1080x720 with 1 Axes>"
            ],
            "image/png": "[encoded data removed]"
          },
          "metadata": {}
        }
      ],
      "source": [
        "#Visualizing the above results, of the first 10 airports.\n",
        "#Sorting top 10\n",
        "top10 = data.head(10)\n",
        "top10 = top10[:10]\n",
        "#Visualizing\n",
        "plt.figure(figsize=(15,10));\n",
        "sns.barplot(y='Length',x='AirportFrom',data=top10,palette='icefire_r');\n",
        "plt.xlabel('AirportFrom');\n",
        "plt.ylabel('Length of delays');\n",
        "plt.title('Airport From vs Delays');"
      ]
    },
    {
      "cell_type": "markdown",
      "source": [
        "GUM Airport had the highest delays, being a US territory island in Micronesia it experiences some of the adverse weather such as crosswinds of 30-35 kts or more which are deemed unsafe for take_off or landing.It also geoghraphically lies in the path of typhoons  ( a mature tropical cyclone that develops between 180° and 100°E in the Northern Hemisphere) where it has been hit some of the severe ones like  Typhoon of 1900, Karen (1962), Pamela (1976), Paka (1997), and Pongsona (2002).\n",
        "\n",
        "It also the home away from home of US military base who occupy 29% of the island\n"
      ],
      "metadata": {
        "id": "ZPIgw1BGE7qJ"
      }
    },
    {
      "cell_type": "code",
      "execution_count": null,
      "metadata": {
        "id": "cIErkE1rL-p9",
        "colab": {
          "base_uri": "https://localhost:8080/",
          "height": 537
        },
        "outputId": "742f86a8-8262-4471-e177-512b9016fa73"
      },
      "outputs": [
        {
          "output_type": "display_data",
          "data": {
            "text/plain": [
              "<Figure size 1080x576 with 1 Axes>"
            ],
            "image/png": "[encoded data removed]"
          },
          "metadata": {}
        }
      ],
      "source": [
        "#Visualizing the Airports with the least delays\n",
        "#Sorting top 10\n",
        "lst10 = data.tail(10)\n",
        "\n",
        "#Visualizing\n",
        "plt.figure(figsize=(15,8));\n",
        "sns.barplot(y='Length',x='AirportFrom',data=lst10,palette='icefire_r');\n",
        "plt.xlabel('AirportFrom');\n",
        "plt.ylabel('Length of delays');\n",
        "plt.title('Airport From vs Delays');"
      ]
    },
    {
      "cell_type": "markdown",
      "source": [
        "From our data set WRG (Wrangell Airport) had the least delay time. This is expected since from previous it was among the airport with the least flights(traffic) and it also had least delay time compared to other with the least flights"
      ],
      "metadata": {
        "id": "sF0hm_CQTemx"
      }
    },
    {
      "cell_type": "markdown",
      "metadata": {
        "id": "Y4RtEb0zNRUq"
      },
      "source": [
        "## **Which day of the week had the most delays.**"
      ]
    },
    {
      "cell_type": "code",
      "execution_count": null,
      "metadata": {
        "id": "xVluM9P8sGxt",
        "colab": {
          "base_uri": "https://localhost:8080/",
          "height": 363
        },
        "outputId": "6a3cbaea-f747-4eab-e5e2-f2c084e0b524"
      },
      "outputs": [
        {
          "output_type": "display_data",
          "data": {
            "text/plain": [
              "<Figure size 1209.6x432 with 7 Axes>"
            ],
            "image/png": "[encoded data removed]"
          },
          "metadata": {}
        }
      ],
      "source": [
        "#Delay vs Airport From\n",
        "sns.catplot(\"Delay\", col=\"DayOfWeek\", col_wrap=7, data=df1, kind=\"count\", height=6, aspect=.4, palette='Set1')\n",
        "plt.show()\n",
        "\n",
        "# Day 6 has the least delay counts.\n",
        "# Day 4 has the most delay counts."
      ]
    },
    {
      "cell_type": "markdown",
      "source": [
        "From a count plot view the day with most delays (1) was Day three and Day four"
      ],
      "metadata": {
        "id": "HHDn0FzsVZJu"
      }
    },
    {
      "cell_type": "markdown",
      "metadata": {
        "id": "pqmUB4EeOSpi"
      },
      "source": [
        "## **Which day of the week had the longest time of delays.**"
      ]
    },
    {
      "cell_type": "code",
      "execution_count": null,
      "metadata": {
        "id": "uz70pH_uNZYH",
        "colab": {
          "base_uri": "https://localhost:8080/",
          "height": 269
        },
        "outputId": "39d708be-40d6-468c-8a29-8567f8eb8d94"
      },
      "outputs": [
        {
          "output_type": "display_data",
          "data": {
            "text/plain": [
              "   DayOfWeek      Length\n",
              "5          6  135.516131\n",
              "6          7  132.790066\n",
              "4          5  132.762024\n",
              "3          4  131.677041\n",
              "0          1  131.565488\n",
              "1          2  131.088071\n",
              "2          3  130.971553"
            ],
            "text/html": [
              "\n",
              "  <div id=\"df-03d6797d-cc7b-4cfb-a70e-56f60c654f8a\">\n",
              "    <div class=\"colab-df-container\">\n",
              "      <div>\n",
              "<style scoped>\n",
              "    .dataframe tbody tr th:only-of-type {\n",
              "        vertical-align: middle;\n",
              "    }\n",
              "\n",
              "    .dataframe tbody tr th {\n",
              "        vertical-align: top;\n",
              "    }\n",
              "\n",
              "    .dataframe thead th {\n",
              "        text-align: right;\n",
              "    }\n",
              "</style>\n",
              "<table border=\"1\" class=\"dataframe\">\n",
              "  <thead>\n",
              "    <tr style=\"text-align: right;\">\n",
              "      <th></th>\n",
              "      <th>DayOfWeek</th>\n",
              "      <th>Length</th>\n",
              "    </tr>\n",
              "  </thead>\n",
              "  <tbody>\n",
              "    <tr>\n",
              "      <th>5</th>\n",
              "      <td>6</td>\n",
              "      <td>135.516131</td>\n",
              "    </tr>\n",
              "    <tr>\n",
              "      <th>6</th>\n",
              "      <td>7</td>\n",
              "      <td>132.790066</td>\n",
              "    </tr>\n",
              "    <tr>\n",
              "      <th>4</th>\n",
              "      <td>5</td>\n",
              "      <td>132.762024</td>\n",
              "    </tr>\n",
              "    <tr>\n",
              "      <th>3</th>\n",
              "      <td>4</td>\n",
              "      <td>131.677041</td>\n",
              "    </tr>\n",
              "    <tr>\n",
              "      <th>0</th>\n",
              "      <td>1</td>\n",
              "      <td>131.565488</td>\n",
              "    </tr>\n",
              "    <tr>\n",
              "      <th>1</th>\n",
              "      <td>2</td>\n",
              "      <td>131.088071</td>\n",
              "    </tr>\n",
              "    <tr>\n",
              "      <th>2</th>\n",
              "      <td>3</td>\n",
              "      <td>130.971553</td>\n",
              "    </tr>\n",
              "  </tbody>\n",
              "</table>\n",
              "</div>\n",
              "      <button class=\"colab-df-convert\" onclick=\"convertToInteractive('df-03d6797d-cc7b-4cfb-a70e-56f60c654f8a')\"\n",
              "              title=\"Convert this dataframe to an interactive table.\"\n",
              "              style=\"display:none;\">\n",
              "        \n",
              "  <svg xmlns=\"http://www.w3.org/2000/svg\" height=\"24px\"viewBox=\"0 0 24 24\"\n",
              "       width=\"24px\">\n",
              "    <path d=\"M0 0h24v24H0V0z\" fill=\"none\"/>\n",
              "    <path d=\"M18.56 5.44l.94 2.06.94-2.06 2.06-.94-2.06-.94-.94-2.06-.94 2.06-2.06.94zm-11 1L8.5 8.5l.94-2.06 2.06-.94-2.06-.94L8.5 2.5l-.94 2.06-2.06.94zm10 10l.94 2.06.94-2.06 2.06-.94-2.06-.94-.94-2.06-.94 2.06-2.06.94z\"/><path d=\"M17.41 7.96l-1.37-1.37c-.4-.4-.92-.59-1.43-.59-.52 0-1.04.2-1.43.59L10.3 9.45l-7.72 7.72c-.78.78-.78 2.05 0 2.83L4 21.41c.39.39.9.59 1.41.59.51 0 1.02-.2 1.41-.59l7.78-7.78 2.81-2.81c.8-.78.8-2.07 0-2.86zM5.41 20L4 18.59l7.72-7.72 1.47 1.35L5.41 20z\"/>\n",
              "  </svg>\n",
              "      </button>\n",
              "      \n",
              "  <style>\n",
              "    .colab-df-container {\n",
              "      display:flex;\n",
              "      flex-wrap:wrap;\n",
              "      gap: 12px;\n",
              "    }\n",
              "\n",
              "    .colab-df-convert {\n",
              "      background-color: #E8F0FE;\n",
              "      border: none;\n",
              "      border-radius: 50%;\n",
              "      cursor: pointer;\n",
              "      display: none;\n",
              "      fill: #1967D2;\n",
              "      height: 32px;\n",
              "      padding: 0 0 0 0;\n",
              "      width: 32px;\n",
              "    }\n",
              "\n",
              "    .colab-df-convert:hover {\n",
              "      background-color: #E2EBFA;\n",
              "      box-shadow: 0px 1px 2px rgba(60, 64, 67, 0.3), 0px 1px 3px 1px rgba(60, 64, 67, 0.15);\n",
              "      fill: #174EA6;\n",
              "    }\n",
              "\n",
              "    [theme=dark] .colab-df-convert {\n",
              "      background-color: #3B4455;\n",
              "      fill: #D2E3FC;\n",
              "    }\n",
              "\n",
              "    [theme=dark] .colab-df-convert:hover {\n",
              "      background-color: #434B5C;\n",
              "      box-shadow: 0px 1px 3px 1px rgba(0, 0, 0, 0.15);\n",
              "      filter: drop-shadow(0px 1px 2px rgba(0, 0, 0, 0.3));\n",
              "      fill: #FFFFFF;\n",
              "    }\n",
              "  </style>\n",
              "\n",
              "      <script>\n",
              "        const buttonEl =\n",
              "          document.querySelector('#df-03d6797d-cc7b-4cfb-a70e-56f60c654f8a button.colab-df-convert');\n",
              "        buttonEl.style.display =\n",
              "          google.colab.kernel.accessAllowed ? 'block' : 'none';\n",
              "\n",
              "        async function convertToInteractive(key) {\n",
              "          const element = document.querySelector('#df-03d6797d-cc7b-4cfb-a70e-56f60c654f8a');\n",
              "          const dataTable =\n",
              "            await google.colab.kernel.invokeFunction('convertToInteractive',\n",
              "                                                     [key], {});\n",
              "          if (!dataTable) return;\n",
              "\n",
              "          const docLinkHtml = 'Like what you see? Visit the ' +\n",
              "            '<a target=\"_blank\" href=https://colab.research.google.com/notebooks/data_table.ipynb>data table notebook</a>'\n",
              "            + ' to learn more about interactive tables.';\n",
              "          element.innerHTML = '';\n",
              "          dataTable['output_type'] = 'display_data';\n",
              "          await google.colab.output.renderOutput(dataTable, element);\n",
              "          const docLink = document.createElement('div');\n",
              "          docLink.innerHTML = docLinkHtml;\n",
              "          element.appendChild(docLink);\n",
              "        }\n",
              "      </script>\n",
              "    </div>\n",
              "  </div>\n",
              "  "
            ]
          },
          "metadata": {}
        }
      ],
      "source": [
        "data3=df1.groupby('DayOfWeek',as_index=False).mean().sort_values('Length',ascending=False)[['DayOfWeek','Length']]\n",
        "display(data3)\n",
        "\n",
        "# Day 6 had the longest mean delay time."
      ]
    },
    {
      "cell_type": "code",
      "execution_count": null,
      "metadata": {
        "id": "uvTwE0G3N2Zx",
        "colab": {
          "base_uri": "https://localhost:8080/",
          "height": 646
        },
        "outputId": "9a4b5fe0-2d0b-4ff6-a4bb-0ba396aa796e"
      },
      "outputs": [
        {
          "output_type": "display_data",
          "data": {
            "text/plain": [
              "<Figure size 1080x720 with 1 Axes>"
            ],
            "image/png": "[encoded data removed]"
          },
          "metadata": {}
        }
      ],
      "source": [
        "#Visualizing the above results\n",
        "#\n",
        "plt.figure(figsize=(15,10));\n",
        "sns.barplot(y='Length',x='DayOfWeek', data=data3,palette='icefire_r');\n",
        "plt.xlabel('DayOfWeek');\n",
        "plt.ylabel('Length of delays');\n",
        "plt.title('Day Of the week vs Delays');"
      ]
    },
    {
      "cell_type": "markdown",
      "source": [
        "From Delay length point of view Day six had the maximum length of delay"
      ],
      "metadata": {
        "id": "nfPBzRqMVuVA"
      }
    },
    {
      "cell_type": "markdown",
      "metadata": {
        "id": "xPY3MG7qJaS1"
      },
      "source": [
        "# **Which airline had the most delays.**"
      ]
    },
    {
      "cell_type": "code",
      "source": [
        "# First lets look at the airline with most flights\n",
        "dx=df1.groupby('Airline',as_index=False).mean().sort_values('Flight',ascending=False)[['Airline','Flight']]\n",
        "display(dx)\n",
        "\n",
        "# OH Airline had the most flights with 6488 average flights and HA had the least flights."
      ],
      "metadata": {
        "id": "ZInYKIHdXNUP",
        "colab": {
          "base_uri": "https://localhost:8080/",
          "height": 614
        },
        "outputId": "04d54f25-2467-4e32-9b48-6d0bce93879f"
      },
      "execution_count": null,
      "outputs": [
        {
          "output_type": "display_data",
          "data": {
            "text/plain": [
              "   Airline       Flight\n",
              "11      OH  6487.924941\n",
              "12      OO  6099.099634\n",
              "6       EV  5575.328414\n",
              "0       9E  4001.839312\n",
              "17      YV  3695.040364\n",
              "10      MQ  3663.847835\n",
              "16      XE  3067.895007\n",
              "5       DL  1828.516672\n",
              "15      WN  1407.982773\n",
              "1       AA  1250.938365\n",
              "14      US  1071.300783\n",
              "4       CO   850.925893\n",
              "8       FL   648.895904\n",
              "3       B6   598.541078\n",
              "7       F9   484.130576\n",
              "13      UA   467.324849\n",
              "2       AS   382.717026\n",
              "9       HA   229.838293"
            ],
            "text/html": [
              "\n",
              "  <div id=\"df-8064179f-b6eb-4a7f-8e2a-8f2406d655e6\">\n",
              "    <div class=\"colab-df-container\">\n",
              "      <div>\n",
              "<style scoped>\n",
              "    .dataframe tbody tr th:only-of-type {\n",
              "        vertical-align: middle;\n",
              "    }\n",
              "\n",
              "    .dataframe tbody tr th {\n",
              "        vertical-align: top;\n",
              "    }\n",
              "\n",
              "    .dataframe thead th {\n",
              "        text-align: right;\n",
              "    }\n",
              "</style>\n",
              "<table border=\"1\" class=\"dataframe\">\n",
              "  <thead>\n",
              "    <tr style=\"text-align: right;\">\n",
              "      <th></th>\n",
              "      <th>Airline</th>\n",
              "      <th>Flight</th>\n",
              "    </tr>\n",
              "  </thead>\n",
              "  <tbody>\n",
              "    <tr>\n",
              "      <th>11</th>\n",
              "      <td>OH</td>\n",
              "      <td>6487.924941</td>\n",
              "    </tr>\n",
              "    <tr>\n",
              "      <th>12</th>\n",
              "      <td>OO</td>\n",
              "      <td>6099.099634</td>\n",
              "    </tr>\n",
              "    <tr>\n",
              "      <th>6</th>\n",
              "      <td>EV</td>\n",
              "      <td>5575.328414</td>\n",
              "    </tr>\n",
              "    <tr>\n",
              "      <th>0</th>\n",
              "      <td>9E</td>\n",
              "      <td>4001.839312</td>\n",
              "    </tr>\n",
              "    <tr>\n",
              "      <th>17</th>\n",
              "      <td>YV</td>\n",
              "      <td>3695.040364</td>\n",
              "    </tr>\n",
              "    <tr>\n",
              "      <th>10</th>\n",
              "      <td>MQ</td>\n",
              "      <td>3663.847835</td>\n",
              "    </tr>\n",
              "    <tr>\n",
              "      <th>16</th>\n",
              "      <td>XE</td>\n",
              "      <td>3067.895007</td>\n",
              "    </tr>\n",
              "    <tr>\n",
              "      <th>5</th>\n",
              "      <td>DL</td>\n",
              "      <td>1828.516672</td>\n",
              "    </tr>\n",
              "    <tr>\n",
              "      <th>15</th>\n",
              "      <td>WN</td>\n",
              "      <td>1407.982773</td>\n",
              "    </tr>\n",
              "    <tr>\n",
              "      <th>1</th>\n",
              "      <td>AA</td>\n",
              "      <td>1250.938365</td>\n",
              "    </tr>\n",
              "    <tr>\n",
              "      <th>14</th>\n",
              "      <td>US</td>\n",
              "      <td>1071.300783</td>\n",
              "    </tr>\n",
              "    <tr>\n",
              "      <th>4</th>\n",
              "      <td>CO</td>\n",
              "      <td>850.925893</td>\n",
              "    </tr>\n",
              "    <tr>\n",
              "      <th>8</th>\n",
              "      <td>FL</td>\n",
              "      <td>648.895904</td>\n",
              "    </tr>\n",
              "    <tr>\n",
              "      <th>3</th>\n",
              "      <td>B6</td>\n",
              "      <td>598.541078</td>\n",
              "    </tr>\n",
              "    <tr>\n",
              "      <th>7</th>\n",
              "      <td>F9</td>\n",
              "      <td>484.130576</td>\n",
              "    </tr>\n",
              "    <tr>\n",
              "      <th>13</th>\n",
              "      <td>UA</td>\n",
              "      <td>467.324849</td>\n",
              "    </tr>\n",
              "    <tr>\n",
              "      <th>2</th>\n",
              "      <td>AS</td>\n",
              "      <td>382.717026</td>\n",
              "    </tr>\n",
              "    <tr>\n",
              "      <th>9</th>\n",
              "      <td>HA</td>\n",
              "      <td>229.838293</td>\n",
              "    </tr>\n",
              "  </tbody>\n",
              "</table>\n",
              "</div>\n",
              "      <button class=\"colab-df-convert\" onclick=\"convertToInteractive('df-8064179f-b6eb-4a7f-8e2a-8f2406d655e6')\"\n",
              "              title=\"Convert this dataframe to an interactive table.\"\n",
              "              style=\"display:none;\">\n",
              "        \n",
              "  <svg xmlns=\"http://www.w3.org/2000/svg\" height=\"24px\"viewBox=\"0 0 24 24\"\n",
              "       width=\"24px\">\n",
              "    <path d=\"M0 0h24v24H0V0z\" fill=\"none\"/>\n",
              "    <path d=\"M18.56 5.44l.94 2.06.94-2.06 2.06-.94-2.06-.94-.94-2.06-.94 2.06-2.06.94zm-11 1L8.5 8.5l.94-2.06 2.06-.94-2.06-.94L8.5 2.5l-.94 2.06-2.06.94zm10 10l.94 2.06.94-2.06 2.06-.94-2.06-.94-.94-2.06-.94 2.06-2.06.94z\"/><path d=\"M17.41 7.96l-1.37-1.37c-.4-.4-.92-.59-1.43-.59-.52 0-1.04.2-1.43.59L10.3 9.45l-7.72 7.72c-.78.78-.78 2.05 0 2.83L4 21.41c.39.39.9.59 1.41.59.51 0 1.02-.2 1.41-.59l7.78-7.78 2.81-2.81c.8-.78.8-2.07 0-2.86zM5.41 20L4 18.59l7.72-7.72 1.47 1.35L5.41 20z\"/>\n",
              "  </svg>\n",
              "      </button>\n",
              "      \n",
              "  <style>\n",
              "    .colab-df-container {\n",
              "      display:flex;\n",
              "      flex-wrap:wrap;\n",
              "      gap: 12px;\n",
              "    }\n",
              "\n",
              "    .colab-df-convert {\n",
              "      background-color: #E8F0FE;\n",
              "      border: none;\n",
              "      border-radius: 50%;\n",
              "      cursor: pointer;\n",
              "      display: none;\n",
              "      fill: #1967D2;\n",
              "      height: 32px;\n",
              "      padding: 0 0 0 0;\n",
              "      width: 32px;\n",
              "    }\n",
              "\n",
              "    .colab-df-convert:hover {\n",
              "      background-color: #E2EBFA;\n",
              "      box-shadow: 0px 1px 2px rgba(60, 64, 67, 0.3), 0px 1px 3px 1px rgba(60, 64, 67, 0.15);\n",
              "      fill: #174EA6;\n",
              "    }\n",
              "\n",
              "    [theme=dark] .colab-df-convert {\n",
              "      background-color: #3B4455;\n",
              "      fill: #D2E3FC;\n",
              "    }\n",
              "\n",
              "    [theme=dark] .colab-df-convert:hover {\n",
              "      background-color: #434B5C;\n",
              "      box-shadow: 0px 1px 3px 1px rgba(0, 0, 0, 0.15);\n",
              "      filter: drop-shadow(0px 1px 2px rgba(0, 0, 0, 0.3));\n",
              "      fill: #FFFFFF;\n",
              "    }\n",
              "  </style>\n",
              "\n",
              "      <script>\n",
              "        const buttonEl =\n",
              "          document.querySelector('#df-8064179f-b6eb-4a7f-8e2a-8f2406d655e6 button.colab-df-convert');\n",
              "        buttonEl.style.display =\n",
              "          google.colab.kernel.accessAllowed ? 'block' : 'none';\n",
              "\n",
              "        async function convertToInteractive(key) {\n",
              "          const element = document.querySelector('#df-8064179f-b6eb-4a7f-8e2a-8f2406d655e6');\n",
              "          const dataTable =\n",
              "            await google.colab.kernel.invokeFunction('convertToInteractive',\n",
              "                                                     [key], {});\n",
              "          if (!dataTable) return;\n",
              "\n",
              "          const docLinkHtml = 'Like what you see? Visit the ' +\n",
              "            '<a target=\"_blank\" href=https://colab.research.google.com/notebooks/data_table.ipynb>data table notebook</a>'\n",
              "            + ' to learn more about interactive tables.';\n",
              "          element.innerHTML = '';\n",
              "          dataTable['output_type'] = 'display_data';\n",
              "          await google.colab.output.renderOutput(dataTable, element);\n",
              "          const docLink = document.createElement('div');\n",
              "          docLink.innerHTML = docLinkHtml;\n",
              "          element.appendChild(docLink);\n",
              "        }\n",
              "      </script>\n",
              "    </div>\n",
              "  </div>\n",
              "  "
            ]
          },
          "metadata": {}
        }
      ]
    },
    {
      "cell_type": "code",
      "source": [
        "#Visualizing the above results\n",
        "plt.figure(figsize=(15,10));\n",
        "sns.barplot(y='Flight',x='Airline',data=dx,palette='icefire_r');\n",
        "plt.xlabel('Airline');\n",
        "plt.ylabel('Flights');\n",
        "plt.title('Airline vs Flights');"
      ],
      "metadata": {
        "id": "fO7rZ1QJXedV",
        "colab": {
          "base_uri": "https://localhost:8080/",
          "height": 646
        },
        "outputId": "0bdc992f-d6c5-475b-ace4-2e1bc45ac08f"
      },
      "execution_count": null,
      "outputs": [
        {
          "output_type": "display_data",
          "data": {
            "text/plain": [
              "<Figure size 1080x720 with 1 Axes>"
            ],
            "image/png": "[encoded data removed]"
          },
          "metadata": {}
        }
      ]
    },
    {
      "cell_type": "markdown",
      "source": [
        "OH (Pacific Southwest) Airlines has the highest number of flights.Some of the contributing factors to highest trips is it was the first large discount airline in the United States. It also \n",
        "has its headquartered in Vandalia, Ohio, United States. It not only make local and states trip it also operates internationally."
      ],
      "metadata": {
        "id": "ST2lSa3abX5I"
      }
    },
    {
      "cell_type": "code",
      "execution_count": null,
      "metadata": {
        "id": "zg9yj480Gqud",
        "colab": {
          "base_uri": "https://localhost:8080/",
          "height": 614
        },
        "outputId": "9693b4fe-127f-45b1-89e1-d9d34973d830"
      },
      "outputs": [
        {
          "output_type": "display_data",
          "data": {
            "text/plain": [
              "   Airline      Length\n",
              "4       CO  193.497822\n",
              "13      UA  189.822115\n",
              "1       AA  172.331128\n",
              "3       B6  171.738737\n",
              "2       AS  171.513992\n",
              "5       DL  157.520479\n",
              "7       F9  151.437887\n",
              "14      US  147.043507\n",
              "8       FL  131.773899\n",
              "15      WN  117.517562\n",
              "11      OH  109.345843\n",
              "16      XE  109.066343\n",
              "10      MQ  103.752493\n",
              "0       9E   96.690660\n",
              "9       HA   93.841341\n",
              "12      OO   93.604847\n",
              "6       EV   91.424222\n",
              "17      YV   88.925027"
            ],
            "text/html": [
              "\n",
              "  <div id=\"df-59e83051-0470-4fed-bb75-ba9ab71a5d66\">\n",
              "    <div class=\"colab-df-container\">\n",
              "      <div>\n",
              "<style scoped>\n",
              "    .dataframe tbody tr th:only-of-type {\n",
              "        vertical-align: middle;\n",
              "    }\n",
              "\n",
              "    .dataframe tbody tr th {\n",
              "        vertical-align: top;\n",
              "    }\n",
              "\n",
              "    .dataframe thead th {\n",
              "        text-align: right;\n",
              "    }\n",
              "</style>\n",
              "<table border=\"1\" class=\"dataframe\">\n",
              "  <thead>\n",
              "    <tr style=\"text-align: right;\">\n",
              "      <th></th>\n",
              "      <th>Airline</th>\n",
              "      <th>Length</th>\n",
              "    </tr>\n",
              "  </thead>\n",
              "  <tbody>\n",
              "    <tr>\n",
              "      <th>4</th>\n",
              "      <td>CO</td>\n",
              "      <td>193.497822</td>\n",
              "    </tr>\n",
              "    <tr>\n",
              "      <th>13</th>\n",
              "      <td>UA</td>\n",
              "      <td>189.822115</td>\n",
              "    </tr>\n",
              "    <tr>\n",
              "      <th>1</th>\n",
              "      <td>AA</td>\n",
              "      <td>172.331128</td>\n",
              "    </tr>\n",
              "    <tr>\n",
              "      <th>3</th>\n",
              "      <td>B6</td>\n",
              "      <td>171.738737</td>\n",
              "    </tr>\n",
              "    <tr>\n",
              "      <th>2</th>\n",
              "      <td>AS</td>\n",
              "      <td>171.513992</td>\n",
              "    </tr>\n",
              "    <tr>\n",
              "      <th>5</th>\n",
              "      <td>DL</td>\n",
              "      <td>157.520479</td>\n",
              "    </tr>\n",
              "    <tr>\n",
              "      <th>7</th>\n",
              "      <td>F9</td>\n",
              "      <td>151.437887</td>\n",
              "    </tr>\n",
              "    <tr>\n",
              "      <th>14</th>\n",
              "      <td>US</td>\n",
              "      <td>147.043507</td>\n",
              "    </tr>\n",
              "    <tr>\n",
              "      <th>8</th>\n",
              "      <td>FL</td>\n",
              "      <td>131.773899</td>\n",
              "    </tr>\n",
              "    <tr>\n",
              "      <th>15</th>\n",
              "      <td>WN</td>\n",
              "      <td>117.517562</td>\n",
              "    </tr>\n",
              "    <tr>\n",
              "      <th>11</th>\n",
              "      <td>OH</td>\n",
              "      <td>109.345843</td>\n",
              "    </tr>\n",
              "    <tr>\n",
              "      <th>16</th>\n",
              "      <td>XE</td>\n",
              "      <td>109.066343</td>\n",
              "    </tr>\n",
              "    <tr>\n",
              "      <th>10</th>\n",
              "      <td>MQ</td>\n",
              "      <td>103.752493</td>\n",
              "    </tr>\n",
              "    <tr>\n",
              "      <th>0</th>\n",
              "      <td>9E</td>\n",
              "      <td>96.690660</td>\n",
              "    </tr>\n",
              "    <tr>\n",
              "      <th>9</th>\n",
              "      <td>HA</td>\n",
              "      <td>93.841341</td>\n",
              "    </tr>\n",
              "    <tr>\n",
              "      <th>12</th>\n",
              "      <td>OO</td>\n",
              "      <td>93.604847</td>\n",
              "    </tr>\n",
              "    <tr>\n",
              "      <th>6</th>\n",
              "      <td>EV</td>\n",
              "      <td>91.424222</td>\n",
              "    </tr>\n",
              "    <tr>\n",
              "      <th>17</th>\n",
              "      <td>YV</td>\n",
              "      <td>88.925027</td>\n",
              "    </tr>\n",
              "  </tbody>\n",
              "</table>\n",
              "</div>\n",
              "      <button class=\"colab-df-convert\" onclick=\"convertToInteractive('df-59e83051-0470-4fed-bb75-ba9ab71a5d66')\"\n",
              "              title=\"Convert this dataframe to an interactive table.\"\n",
              "              style=\"display:none;\">\n",
              "        \n",
              "  <svg xmlns=\"http://www.w3.org/2000/svg\" height=\"24px\"viewBox=\"0 0 24 24\"\n",
              "       width=\"24px\">\n",
              "    <path d=\"M0 0h24v24H0V0z\" fill=\"none\"/>\n",
              "    <path d=\"M18.56 5.44l.94 2.06.94-2.06 2.06-.94-2.06-.94-.94-2.06-.94 2.06-2.06.94zm-11 1L8.5 8.5l.94-2.06 2.06-.94-2.06-.94L8.5 2.5l-.94 2.06-2.06.94zm10 10l.94 2.06.94-2.06 2.06-.94-2.06-.94-.94-2.06-.94 2.06-2.06.94z\"/><path d=\"M17.41 7.96l-1.37-1.37c-.4-.4-.92-.59-1.43-.59-.52 0-1.04.2-1.43.59L10.3 9.45l-7.72 7.72c-.78.78-.78 2.05 0 2.83L4 21.41c.39.39.9.59 1.41.59.51 0 1.02-.2 1.41-.59l7.78-7.78 2.81-2.81c.8-.78.8-2.07 0-2.86zM5.41 20L4 18.59l7.72-7.72 1.47 1.35L5.41 20z\"/>\n",
              "  </svg>\n",
              "      </button>\n",
              "      \n",
              "  <style>\n",
              "    .colab-df-container {\n",
              "      display:flex;\n",
              "      flex-wrap:wrap;\n",
              "      gap: 12px;\n",
              "    }\n",
              "\n",
              "    .colab-df-convert {\n",
              "      background-color: #E8F0FE;\n",
              "      border: none;\n",
              "      border-radius: 50%;\n",
              "      cursor: pointer;\n",
              "      display: none;\n",
              "      fill: #1967D2;\n",
              "      height: 32px;\n",
              "      padding: 0 0 0 0;\n",
              "      width: 32px;\n",
              "    }\n",
              "\n",
              "    .colab-df-convert:hover {\n",
              "      background-color: #E2EBFA;\n",
              "      box-shadow: 0px 1px 2px rgba(60, 64, 67, 0.3), 0px 1px 3px 1px rgba(60, 64, 67, 0.15);\n",
              "      fill: #174EA6;\n",
              "    }\n",
              "\n",
              "    [theme=dark] .colab-df-convert {\n",
              "      background-color: #3B4455;\n",
              "      fill: #D2E3FC;\n",
              "    }\n",
              "\n",
              "    [theme=dark] .colab-df-convert:hover {\n",
              "      background-color: #434B5C;\n",
              "      box-shadow: 0px 1px 3px 1px rgba(0, 0, 0, 0.15);\n",
              "      filter: drop-shadow(0px 1px 2px rgba(0, 0, 0, 0.3));\n",
              "      fill: #FFFFFF;\n",
              "    }\n",
              "  </style>\n",
              "\n",
              "      <script>\n",
              "        const buttonEl =\n",
              "          document.querySelector('#df-59e83051-0470-4fed-bb75-ba9ab71a5d66 button.colab-df-convert');\n",
              "        buttonEl.style.display =\n",
              "          google.colab.kernel.accessAllowed ? 'block' : 'none';\n",
              "\n",
              "        async function convertToInteractive(key) {\n",
              "          const element = document.querySelector('#df-59e83051-0470-4fed-bb75-ba9ab71a5d66');\n",
              "          const dataTable =\n",
              "            await google.colab.kernel.invokeFunction('convertToInteractive',\n",
              "                                                     [key], {});\n",
              "          if (!dataTable) return;\n",
              "\n",
              "          const docLinkHtml = 'Like what you see? Visit the ' +\n",
              "            '<a target=\"_blank\" href=https://colab.research.google.com/notebooks/data_table.ipynb>data table notebook</a>'\n",
              "            + ' to learn more about interactive tables.';\n",
              "          element.innerHTML = '';\n",
              "          dataTable['output_type'] = 'display_data';\n",
              "          await google.colab.output.renderOutput(dataTable, element);\n",
              "          const docLink = document.createElement('div');\n",
              "          docLink.innerHTML = docLinkHtml;\n",
              "          element.appendChild(docLink);\n",
              "        }\n",
              "      </script>\n",
              "    </div>\n",
              "  </div>\n",
              "  "
            ]
          },
          "metadata": {}
        }
      ],
      "source": [
        "#Now the Airlines with most delays\n",
        "data2=df1.groupby('Airline',as_index=False).mean().sort_values('Length',ascending=False)[['Airline','Length']]\n",
        "display(data2)\n",
        "# CO Airline has the heighest mean delay length"
      ]
    },
    {
      "cell_type": "code",
      "execution_count": null,
      "metadata": {
        "id": "2CpzLm99Itp3",
        "colab": {
          "base_uri": "https://localhost:8080/",
          "height": 646
        },
        "outputId": "24199c1a-7f40-40b7-874f-dece4ed32c25"
      },
      "outputs": [
        {
          "output_type": "display_data",
          "data": {
            "text/plain": [
              "<Figure size 1080x720 with 1 Axes>"
            ],
            "image/png": "[encoded data removed]"
          },
          "metadata": {}
        }
      ],
      "source": [
        "#Visualizing the above results\n",
        "plt.figure(figsize=(15,10));\n",
        "sns.barplot(y='Length',x='Airline',data=data2,palette='icefire_r');\n",
        "plt.xlabel('Airline');\n",
        "plt.ylabel('Length of delays');\n",
        "plt.title('Airline vs Delays');"
      ]
    },
    {
      "cell_type": "markdown",
      "source": [
        "CO (Continental) airlines comes first with the maximum delay length in time. With its headquater in Houston, Texas; an area afftected by some of adverse weather conditions like tonados are some of its conntributing factors to delays."
      ],
      "metadata": {
        "id": "d_h5fC1gcViD"
      }
    },
    {
      "cell_type": "markdown",
      "metadata": {
        "id": "L5bcrtSLI4P3"
      },
      "source": [
        "### **3. Multivariate Analysis**"
      ]
    },
    {
      "cell_type": "code",
      "execution_count": null,
      "metadata": {
        "id": "V3NI4iv9huet",
        "colab": {
          "base_uri": "https://localhost:8080/"
        },
        "outputId": "2386d378-c5b0-4549-9126-7bd52cab159e"
      },
      "outputs": [
        {
          "output_type": "execute_result",
          "data": {
            "text/plain": [
              "Index(['Airline', 'Flight', 'AirportFrom', 'AirportTo', 'DayOfWeek', 'Time',\n",
              "       'Length', 'Delay'],\n",
              "      dtype='object')"
            ]
          },
          "metadata": {},
          "execution_count": 37
        }
      ],
      "source": [
        "df1.columns"
      ]
    },
    {
      "cell_type": "code",
      "execution_count": null,
      "metadata": {
        "id": "0kFmmcNjhri9"
      },
      "outputs": [],
      "source": [
        "# Import label encoder\n",
        "from sklearn import preprocessing\n",
        "  \n",
        "# label_encoder object knows how to understand word labels.\n",
        "label_encoder = preprocessing.LabelEncoder()\n",
        "  \n",
        "# Encode labels in column .\n",
        "df1['Airline']= label_encoder.fit_transform(df1['Airline'])\n",
        "df1['AirportFrom']= label_encoder.fit_transform(df1['AirportFrom'])\n",
        "df1['AirportTo']= label_encoder.fit_transform(df1['AirportTo'])   \n",
        "    \n"
      ]
    },
    {
      "cell_type": "code",
      "execution_count": null,
      "metadata": {
        "id": "y2nKHrtrI8IH",
        "colab": {
          "base_uri": "https://localhost:8080/",
          "height": 710
        },
        "outputId": "ab4f35d7-91a8-4caa-b79c-30dd6a668dcb"
      },
      "outputs": [
        {
          "output_type": "display_data",
          "data": {
            "text/plain": [
              "<Figure size 1080x720 with 2 Axes>"
            ],
            "image/png": "[encoded data removed]"
          },
          "metadata": {}
        }
      ],
      "source": [
        "# plotting the correlation using a heatmap\n",
        "fig, ax = plt.subplots(figsize=(15,10))  \n",
        "sns.heatmap(df1.corr( ), cmap=\"YlGnBu\", annot=True)\n",
        "plt.title('Correlation Matrix')\n",
        "plt.show()"
      ]
    },
    {
      "cell_type": "markdown",
      "source": [
        "There is no strong correlation between delay and features that might be leading to delay or not"
      ],
      "metadata": {
        "id": "smeTYfFqdaWD"
      }
    },
    {
      "cell_type": "code",
      "execution_count": null,
      "metadata": {
        "id": "Y279PzSGfh52",
        "colab": {
          "base_uri": "https://localhost:8080/",
          "height": 522
        },
        "outputId": "74c3ccc7-4950-49ed-ea87-6c01236bd597"
      },
      "outputs": [
        {
          "output_type": "display_data",
          "data": {
            "text/plain": [
              "<Figure size 1040x560 with 1 Axes>"
            ],
            "image/png": "[encoded data removed]"
          },
          "metadata": {}
        }
      ],
      "source": [
        "# Plotting Kernel Density Estimate plots for Delay\n",
        "# Setting the figuresize of the graph to 13 in length and 7 in height\n",
        "#\n",
        "plt.figure(figsize=(13,7), dpi= 80)\n",
        "sns.kdeplot(df1.loc[df1['Airline'] == True, \"Delay\"], shade=True, color=\"g\", label=\"Airline\", alpha=.7)\n",
        "sns.kdeplot(df1.loc[df1['AirportTo'] == True, \"Delay\"], shade=True, color=\"deeppink\", label=\"AirportTo\", alpha=.7)\n",
        "sns.kdeplot(df1.loc[df1['AirportFrom'] == True, \"Delay\"], shade=True, color=\"dodgerblue\", label=\"AirportFrom\", alpha=.7)\n",
        "sns.kdeplot(df1.loc[df1['DayOfWeek'] == True, \"Delay\"], shade=True, color=\"orange\", label=\"DayOfWeek\", alpha=.7)\n",
        "plt.title('Density plot of Delay by airport to or from, Airline and Day of week', fontsize=14, color = 'purple')\n",
        "plt.xlabel('Delay', fontsize = 13, color = 'magenta')\n",
        "plt.ylabel('Frequency', color = 'purple', fontsize = 13)\n",
        "plt.legend()\n",
        "plt.show()"
      ]
    },
    {
      "cell_type": "markdown",
      "source": [
        "The above graph tries to show relatioship between delay and various features. We can see that Airline and Dayof the week are some of the key factor in delay or no delay. This can be intrepretend in than some factor leading to delay such as weather , there could be storm on Tuesday but not on wednesday leading to more  delays on tuesday unlike wednesday. \n",
        "\n",
        "On other factors such as Technical reasons, Flight crew delays are directly influnced by the airline."
      ],
      "metadata": {
        "id": "kUv6g95bdsbo"
      }
    },
    {
      "cell_type": "markdown",
      "metadata": {
        "id": "63rxmJtKI9b2"
      },
      "source": [
        "## **Modeling**"
      ]
    },
    {
      "cell_type": "markdown",
      "metadata": {
        "id": "gLAbybuXi-Ju"
      },
      "source": [
        "**Preprocessing**"
      ]
    },
    {
      "cell_type": "code",
      "execution_count": null,
      "metadata": {
        "id": "CNyuGLxci5iU",
        "colab": {
          "base_uri": "https://localhost:8080/",
          "height": 206
        },
        "outputId": "b9b659ae-8a22-4237-ff1e-3d51884bbe7e"
      },
      "outputs": [
        {
          "output_type": "execute_result",
          "data": {
            "text/plain": [
              "   Airline  Flight  AirportFrom  AirportTo  DayOfWeek  Time  Length  Delay\n",
              "0        4     269          253        135          3    15     205      1\n",
              "1       14    1558          217         60          3    15     222      1\n",
              "2        1    2400          154         80          3    20     165      1\n",
              "3        1    2466          253         80          3    20     195      1\n",
              "4        2     108           14        252          3    30     202      0"
            ],
            "text/html": [
              "\n",
              "  <div id=\"df-d3013ddf-3469-4d42-b442-6fbdeb001047\">\n",
              "    <div class=\"colab-df-container\">\n",
              "      <div>\n",
              "<style scoped>\n",
              "    .dataframe tbody tr th:only-of-type {\n",
              "        vertical-align: middle;\n",
              "    }\n",
              "\n",
              "    .dataframe tbody tr th {\n",
              "        vertical-align: top;\n",
              "    }\n",
              "\n",
              "    .dataframe thead th {\n",
              "        text-align: right;\n",
              "    }\n",
              "</style>\n",
              "<table border=\"1\" class=\"dataframe\">\n",
              "  <thead>\n",
              "    <tr style=\"text-align: right;\">\n",
              "      <th></th>\n",
              "      <th>Airline</th>\n",
              "      <th>Flight</th>\n",
              "      <th>AirportFrom</th>\n",
              "      <th>AirportTo</th>\n",
              "      <th>DayOfWeek</th>\n",
              "      <th>Time</th>\n",
              "      <th>Length</th>\n",
              "      <th>Delay</th>\n",
              "    </tr>\n",
              "  </thead>\n",
              "  <tbody>\n",
              "    <tr>\n",
              "      <th>0</th>\n",
              "      <td>4</td>\n",
              "      <td>269</td>\n",
              "      <td>253</td>\n",
              "      <td>135</td>\n",
              "      <td>3</td>\n",
              "      <td>15</td>\n",
              "      <td>205</td>\n",
              "      <td>1</td>\n",
              "    </tr>\n",
              "    <tr>\n",
              "      <th>1</th>\n",
              "      <td>14</td>\n",
              "      <td>1558</td>\n",
              "      <td>217</td>\n",
              "      <td>60</td>\n",
              "      <td>3</td>\n",
              "      <td>15</td>\n",
              "      <td>222</td>\n",
              "      <td>1</td>\n",
              "    </tr>\n",
              "    <tr>\n",
              "      <th>2</th>\n",
              "      <td>1</td>\n",
              "      <td>2400</td>\n",
              "      <td>154</td>\n",
              "      <td>80</td>\n",
              "      <td>3</td>\n",
              "      <td>20</td>\n",
              "      <td>165</td>\n",
              "      <td>1</td>\n",
              "    </tr>\n",
              "    <tr>\n",
              "      <th>3</th>\n",
              "      <td>1</td>\n",
              "      <td>2466</td>\n",
              "      <td>253</td>\n",
              "      <td>80</td>\n",
              "      <td>3</td>\n",
              "      <td>20</td>\n",
              "      <td>195</td>\n",
              "      <td>1</td>\n",
              "    </tr>\n",
              "    <tr>\n",
              "      <th>4</th>\n",
              "      <td>2</td>\n",
              "      <td>108</td>\n",
              "      <td>14</td>\n",
              "      <td>252</td>\n",
              "      <td>3</td>\n",
              "      <td>30</td>\n",
              "      <td>202</td>\n",
              "      <td>0</td>\n",
              "    </tr>\n",
              "  </tbody>\n",
              "</table>\n",
              "</div>\n",
              "      <button class=\"colab-df-convert\" onclick=\"convertToInteractive('df-d3013ddf-3469-4d42-b442-6fbdeb001047')\"\n",
              "              title=\"Convert this dataframe to an interactive table.\"\n",
              "              style=\"display:none;\">\n",
              "        \n",
              "  <svg xmlns=\"http://www.w3.org/2000/svg\" height=\"24px\"viewBox=\"0 0 24 24\"\n",
              "       width=\"24px\">\n",
              "    <path d=\"M0 0h24v24H0V0z\" fill=\"none\"/>\n",
              "    <path d=\"M18.56 5.44l.94 2.06.94-2.06 2.06-.94-2.06-.94-.94-2.06-.94 2.06-2.06.94zm-11 1L8.5 8.5l.94-2.06 2.06-.94-2.06-.94L8.5 2.5l-.94 2.06-2.06.94zm10 10l.94 2.06.94-2.06 2.06-.94-2.06-.94-.94-2.06-.94 2.06-2.06.94z\"/><path d=\"M17.41 7.96l-1.37-1.37c-.4-.4-.92-.59-1.43-.59-.52 0-1.04.2-1.43.59L10.3 9.45l-7.72 7.72c-.78.78-.78 2.05 0 2.83L4 21.41c.39.39.9.59 1.41.59.51 0 1.02-.2 1.41-.59l7.78-7.78 2.81-2.81c.8-.78.8-2.07 0-2.86zM5.41 20L4 18.59l7.72-7.72 1.47 1.35L5.41 20z\"/>\n",
              "  </svg>\n",
              "      </button>\n",
              "      \n",
              "  <style>\n",
              "    .colab-df-container {\n",
              "      display:flex;\n",
              "      flex-wrap:wrap;\n",
              "      gap: 12px;\n",
              "    }\n",
              "\n",
              "    .colab-df-convert {\n",
              "      background-color: #E8F0FE;\n",
              "      border: none;\n",
              "      border-radius: 50%;\n",
              "      cursor: pointer;\n",
              "      display: none;\n",
              "      fill: #1967D2;\n",
              "      height: 32px;\n",
              "      padding: 0 0 0 0;\n",
              "      width: 32px;\n",
              "    }\n",
              "\n",
              "    .colab-df-convert:hover {\n",
              "      background-color: #E2EBFA;\n",
              "      box-shadow: 0px 1px 2px rgba(60, 64, 67, 0.3), 0px 1px 3px 1px rgba(60, 64, 67, 0.15);\n",
              "      fill: #174EA6;\n",
              "    }\n",
              "\n",
              "    [theme=dark] .colab-df-convert {\n",
              "      background-color: #3B4455;\n",
              "      fill: #D2E3FC;\n",
              "    }\n",
              "\n",
              "    [theme=dark] .colab-df-convert:hover {\n",
              "      background-color: #434B5C;\n",
              "      box-shadow: 0px 1px 3px 1px rgba(0, 0, 0, 0.15);\n",
              "      filter: drop-shadow(0px 1px 2px rgba(0, 0, 0, 0.3));\n",
              "      fill: #FFFFFF;\n",
              "    }\n",
              "  </style>\n",
              "\n",
              "      <script>\n",
              "        const buttonEl =\n",
              "          document.querySelector('#df-d3013ddf-3469-4d42-b442-6fbdeb001047 button.colab-df-convert');\n",
              "        buttonEl.style.display =\n",
              "          google.colab.kernel.accessAllowed ? 'block' : 'none';\n",
              "\n",
              "        async function convertToInteractive(key) {\n",
              "          const element = document.querySelector('#df-d3013ddf-3469-4d42-b442-6fbdeb001047');\n",
              "          const dataTable =\n",
              "            await google.colab.kernel.invokeFunction('convertToInteractive',\n",
              "                                                     [key], {});\n",
              "          if (!dataTable) return;\n",
              "\n",
              "          const docLinkHtml = 'Like what you see? Visit the ' +\n",
              "            '<a target=\"_blank\" href=https://colab.research.google.com/notebooks/data_table.ipynb>data table notebook</a>'\n",
              "            + ' to learn more about interactive tables.';\n",
              "          element.innerHTML = '';\n",
              "          dataTable['output_type'] = 'display_data';\n",
              "          await google.colab.output.renderOutput(dataTable, element);\n",
              "          const docLink = document.createElement('div');\n",
              "          docLink.innerHTML = docLinkHtml;\n",
              "          element.appendChild(docLink);\n",
              "        }\n",
              "      </script>\n",
              "    </div>\n",
              "  </div>\n",
              "  "
            ]
          },
          "metadata": {},
          "execution_count": 41
        }
      ],
      "source": [
        "#Just an reminder of how our data looks like\n",
        "df1.head()"
      ]
    },
    {
      "cell_type": "markdown",
      "metadata": {
        "id": "3Ge4p6K5JFnj"
      },
      "source": [
        "### **1. Decision Trees (RandomForest)**"
      ]
    },
    {
      "cell_type": "code",
      "execution_count": null,
      "metadata": {
        "id": "ni173CgYJJFc"
      },
      "outputs": [],
      "source": [
        "#Preprocessing\n",
        "X= df1.drop(['Delay'], axis=1)\n",
        "y = df1['Delay']"
      ]
    },
    {
      "cell_type": "code",
      "execution_count": null,
      "metadata": {
        "id": "ITABGijCYxTF"
      },
      "outputs": [],
      "source": [
        "# Splitting the data into training and testing sets 25%\n",
        "#\n",
        "from sklearn.model_selection import train_test_split\n",
        "X_train, X_test, y_train, y_test = train_test_split(X, y, test_size = 0.25, random_state = 0)"
      ]
    },
    {
      "cell_type": "code",
      "execution_count": null,
      "metadata": {
        "id": "puVyq3SBYxLL",
        "colab": {
          "base_uri": "https://localhost:8080/"
        },
        "outputId": "55167945-0154-4a0f-f948-2aef206191ed"
      },
      "outputs": [
        {
          "output_type": "execute_result",
          "data": {
            "text/plain": [
              "array([1, 0, 1, ..., 1, 0, 0])"
            ]
          },
          "metadata": {},
          "execution_count": 44
        }
      ],
      "source": [
        "from sklearn.ensemble import RandomForestClassifier\n",
        "\n",
        "forest1 = RandomForestClassifier(n_estimators = 100, random_state=0)\n",
        "forest11 = forest1.fit(X_train, y_train)\n",
        "\n",
        "# Predict based on the model we've trained\n",
        "y_pred = forest11.predict(X_test)\n",
        "\n",
        "y_pred"
      ]
    },
    {
      "cell_type": "code",
      "execution_count": null,
      "metadata": {
        "id": "aKMOvKn8ZE7a",
        "colab": {
          "base_uri": "https://localhost:8080/"
        },
        "outputId": "9ffecb8a-94dd-4c62-a027-09930d4cf472"
      },
      "outputs": [
        {
          "output_type": "stream",
          "name": "stdout",
          "text": [
            "Report :                precision    recall  f1-score   support\n",
            "\n",
            "           0       0.65      0.67      0.66     74976\n",
            "           1       0.57      0.56      0.57     59870\n",
            "\n",
            "    accuracy                           0.62    134846\n",
            "   macro avg       0.61      0.61      0.61    134846\n",
            "weighted avg       0.62      0.62      0.62    134846\n",
            "\n"
          ]
        }
      ],
      "source": [
        "# And now we assess the errors\n",
        "from sklearn.metrics import classification_report\n",
        "from sklearn import metrics\n",
        "# Model Accuracy, how often is the classifier correct?\n",
        "print(\"Report : \",\n",
        "    classification_report(y_test, y_pred))"
      ]
    },
    {
      "cell_type": "markdown",
      "metadata": {
        "id": "FDQbvOj3av6b"
      },
      "source": [
        "Our model is giving us an f1 score of 66% for non delayed class and 57% for the delayed class."
      ]
    },
    {
      "cell_type": "code",
      "execution_count": null,
      "metadata": {
        "id": "SpaH35FsZJCN",
        "colab": {
          "base_uri": "https://localhost:8080/",
          "height": 300
        },
        "outputId": "3d4d15ef-01da-444f-e433-8255a2fe84ee"
      },
      "outputs": [
        {
          "output_type": "execute_result",
          "data": {
            "text/plain": [
              "             importance\n",
              "feature                \n",
              "DayOfWeek        0.2728\n",
              "Time             0.1939\n",
              "Flight           0.1479\n",
              "Length           0.1385\n",
              "Airline          0.0886\n",
              "AirportFrom      0.0824\n",
              "AirportTo        0.0759"
            ],
            "text/html": [
              "\n",
              "  <div id=\"df-34e6dfc5-7002-4823-815c-acbe515aa6fc\">\n",
              "    <div class=\"colab-df-container\">\n",
              "      <div>\n",
              "<style scoped>\n",
              "    .dataframe tbody tr th:only-of-type {\n",
              "        vertical-align: middle;\n",
              "    }\n",
              "\n",
              "    .dataframe tbody tr th {\n",
              "        vertical-align: top;\n",
              "    }\n",
              "\n",
              "    .dataframe thead th {\n",
              "        text-align: right;\n",
              "    }\n",
              "</style>\n",
              "<table border=\"1\" class=\"dataframe\">\n",
              "  <thead>\n",
              "    <tr style=\"text-align: right;\">\n",
              "      <th></th>\n",
              "      <th>importance</th>\n",
              "    </tr>\n",
              "    <tr>\n",
              "      <th>feature</th>\n",
              "      <th></th>\n",
              "    </tr>\n",
              "  </thead>\n",
              "  <tbody>\n",
              "    <tr>\n",
              "      <th>DayOfWeek</th>\n",
              "      <td>0.2728</td>\n",
              "    </tr>\n",
              "    <tr>\n",
              "      <th>Time</th>\n",
              "      <td>0.1939</td>\n",
              "    </tr>\n",
              "    <tr>\n",
              "      <th>Flight</th>\n",
              "      <td>0.1479</td>\n",
              "    </tr>\n",
              "    <tr>\n",
              "      <th>Length</th>\n",
              "      <td>0.1385</td>\n",
              "    </tr>\n",
              "    <tr>\n",
              "      <th>Airline</th>\n",
              "      <td>0.0886</td>\n",
              "    </tr>\n",
              "    <tr>\n",
              "      <th>AirportFrom</th>\n",
              "      <td>0.0824</td>\n",
              "    </tr>\n",
              "    <tr>\n",
              "      <th>AirportTo</th>\n",
              "      <td>0.0759</td>\n",
              "    </tr>\n",
              "  </tbody>\n",
              "</table>\n",
              "</div>\n",
              "      <button class=\"colab-df-convert\" onclick=\"convertToInteractive('df-34e6dfc5-7002-4823-815c-acbe515aa6fc')\"\n",
              "              title=\"Convert this dataframe to an interactive table.\"\n",
              "              style=\"display:none;\">\n",
              "        \n",
              "  <svg xmlns=\"http://www.w3.org/2000/svg\" height=\"24px\"viewBox=\"0 0 24 24\"\n",
              "       width=\"24px\">\n",
              "    <path d=\"M0 0h24v24H0V0z\" fill=\"none\"/>\n",
              "    <path d=\"M18.56 5.44l.94 2.06.94-2.06 2.06-.94-2.06-.94-.94-2.06-.94 2.06-2.06.94zm-11 1L8.5 8.5l.94-2.06 2.06-.94-2.06-.94L8.5 2.5l-.94 2.06-2.06.94zm10 10l.94 2.06.94-2.06 2.06-.94-2.06-.94-.94-2.06-.94 2.06-2.06.94z\"/><path d=\"M17.41 7.96l-1.37-1.37c-.4-.4-.92-.59-1.43-.59-.52 0-1.04.2-1.43.59L10.3 9.45l-7.72 7.72c-.78.78-.78 2.05 0 2.83L4 21.41c.39.39.9.59 1.41.59.51 0 1.02-.2 1.41-.59l7.78-7.78 2.81-2.81c.8-.78.8-2.07 0-2.86zM5.41 20L4 18.59l7.72-7.72 1.47 1.35L5.41 20z\"/>\n",
              "  </svg>\n",
              "      </button>\n",
              "      \n",
              "  <style>\n",
              "    .colab-df-container {\n",
              "      display:flex;\n",
              "      flex-wrap:wrap;\n",
              "      gap: 12px;\n",
              "    }\n",
              "\n",
              "    .colab-df-convert {\n",
              "      background-color: #E8F0FE;\n",
              "      border: none;\n",
              "      border-radius: 50%;\n",
              "      cursor: pointer;\n",
              "      display: none;\n",
              "      fill: #1967D2;\n",
              "      height: 32px;\n",
              "      padding: 0 0 0 0;\n",
              "      width: 32px;\n",
              "    }\n",
              "\n",
              "    .colab-df-convert:hover {\n",
              "      background-color: #E2EBFA;\n",
              "      box-shadow: 0px 1px 2px rgba(60, 64, 67, 0.3), 0px 1px 3px 1px rgba(60, 64, 67, 0.15);\n",
              "      fill: #174EA6;\n",
              "    }\n",
              "\n",
              "    [theme=dark] .colab-df-convert {\n",
              "      background-color: #3B4455;\n",
              "      fill: #D2E3FC;\n",
              "    }\n",
              "\n",
              "    [theme=dark] .colab-df-convert:hover {\n",
              "      background-color: #434B5C;\n",
              "      box-shadow: 0px 1px 3px 1px rgba(0, 0, 0, 0.15);\n",
              "      filter: drop-shadow(0px 1px 2px rgba(0, 0, 0, 0.3));\n",
              "      fill: #FFFFFF;\n",
              "    }\n",
              "  </style>\n",
              "\n",
              "      <script>\n",
              "        const buttonEl =\n",
              "          document.querySelector('#df-34e6dfc5-7002-4823-815c-acbe515aa6fc button.colab-df-convert');\n",
              "        buttonEl.style.display =\n",
              "          google.colab.kernel.accessAllowed ? 'block' : 'none';\n",
              "\n",
              "        async function convertToInteractive(key) {\n",
              "          const element = document.querySelector('#df-34e6dfc5-7002-4823-815c-acbe515aa6fc');\n",
              "          const dataTable =\n",
              "            await google.colab.kernel.invokeFunction('convertToInteractive',\n",
              "                                                     [key], {});\n",
              "          if (!dataTable) return;\n",
              "\n",
              "          const docLinkHtml = 'Like what you see? Visit the ' +\n",
              "            '<a target=\"_blank\" href=https://colab.research.google.com/notebooks/data_table.ipynb>data table notebook</a>'\n",
              "            + ' to learn more about interactive tables.';\n",
              "          element.innerHTML = '';\n",
              "          dataTable['output_type'] = 'display_data';\n",
              "          await google.colab.output.renderOutput(dataTable, element);\n",
              "          const docLink = document.createElement('div');\n",
              "          docLink.innerHTML = docLinkHtml;\n",
              "          element.appendChild(docLink);\n",
              "        }\n",
              "      </script>\n",
              "    </div>\n",
              "  </div>\n",
              "  "
            ]
          },
          "metadata": {},
          "execution_count": 46
        }
      ],
      "source": [
        "# Checking for the most important features that contribute most in predicting the target\n",
        "# Creating a dataframe of features and their respective importances\n",
        "#\n",
        "df = pd.DataFrame({'feature': X.columns, 'importance': np.round(forest11.feature_importances_, 4)}).set_index('feature').sort_values(by = 'importance', ascending = False)\n",
        "df"
      ]
    },
    {
      "cell_type": "code",
      "execution_count": null,
      "metadata": {
        "id": "-7_bOgibZI9J",
        "colab": {
          "base_uri": "https://localhost:8080/",
          "height": 636
        },
        "outputId": "919554a2-f0b6-44df-8191-e7c5ff6c756a"
      },
      "outputs": [
        {
          "output_type": "display_data",
          "data": {
            "text/plain": [
              "<Figure size 720x720 with 1 Axes>"
            ],
            "image/png": "[encoded data removed]"
          },
          "metadata": {}
        }
      ],
      "source": [
        "# Creating a bar chart of feature importance in descending order\n",
        "#\n",
        "df = df[:12].sort_values(by = 'importance', ascending = True)\n",
        "df.plot(kind = 'barh', figsize = (10, 10), color = 'purple')\n",
        "plt.legend(loc = 'center right')\n",
        "plt.title('Bar chart showing feature importance', color = 'indigo', fontsize = 14)\n",
        "plt.xlabel('Features', fontsize = 12, color = 'indigo')\n",
        "plt.show()"
      ]
    },
    {
      "cell_type": "markdown",
      "metadata": {
        "id": "PM0g_ggJbhVw"
      },
      "source": [
        "All our features are important so will move on to parameter tuning"
      ]
    },
    {
      "cell_type": "code",
      "execution_count": null,
      "metadata": {
        "id": "aqB8bPoabq3q"
      },
      "outputs": [],
      "source": [
        "#Defining our feature again\n",
        "#Preprocessing\n",
        "X= df1.drop(['Delay'], axis=1)\n",
        "y = df1['Delay']"
      ]
    },
    {
      "cell_type": "code",
      "execution_count": null,
      "metadata": {
        "id": "SeKT1g1yb_c_"
      },
      "outputs": [],
      "source": [
        "# Splitting the data into training and testing sets 25%\n",
        "#\n",
        "from sklearn.model_selection import train_test_split\n",
        "X_train, X_test, y_train, y_test = train_test_split(X, y, test_size = 0.25, random_state = 0)"
      ]
    },
    {
      "cell_type": "code",
      "execution_count": null,
      "metadata": {
        "id": "BPhXmyEZXrd3",
        "colab": {
          "base_uri": "https://localhost:8080/"
        },
        "outputId": "b369f8ac-ba42-4d22-c3fd-f11941ec72af"
      },
      "outputs": [
        {
          "output_type": "execute_result",
          "data": {
            "text/plain": [
              "array([1, 0, 1, ..., 0, 0, 0])"
            ]
          },
          "metadata": {},
          "execution_count": 50
        }
      ],
      "source": [
        "#We Control the depth and a split of the tree\n",
        "forest = RandomForestClassifier(n_estimators = 100, random_state=42, min_samples_split = 20, max_depth=5)\n",
        "forest = forest.fit(X_train, y_train)\n",
        "\n",
        "# Predict based on the model we've trained\n",
        "y_pred = forest.predict(X_test)\n",
        "\n",
        "y_pred"
      ]
    },
    {
      "cell_type": "code",
      "execution_count": null,
      "metadata": {
        "id": "vCo3ZiZ-ZYSF",
        "colab": {
          "base_uri": "https://localhost:8080/"
        },
        "outputId": "7dd3322b-96ff-4b3c-d545-4cdcee43912a"
      },
      "outputs": [
        {
          "output_type": "stream",
          "name": "stdout",
          "text": [
            "Confusion Matrix:  [[68740  6236]\n",
            " [43246 16624]]\n",
            "Accuracy :  63.304806964982276\n",
            "Report :                precision    recall  f1-score   support\n",
            "\n",
            "           0       0.61      0.92      0.74     74976\n",
            "           1       0.73      0.28      0.40     59870\n",
            "\n",
            "    accuracy                           0.63    134846\n",
            "   macro avg       0.67      0.60      0.57    134846\n",
            "weighted avg       0.66      0.63      0.59    134846\n",
            "\n"
          ]
        }
      ],
      "source": [
        "from sklearn.metrics import confusion_matrix\n",
        "from sklearn.metrics import accuracy_score\n",
        "from sklearn.metrics import classification_report\n",
        "from sklearn import metrics\n",
        "#Evaluating our model\n",
        "print(\"Confusion Matrix: \",\n",
        "        confusion_matrix(y_test, y_pred))\n",
        "      \n",
        "print (\"Accuracy : \",\n",
        "    accuracy_score(y_test,y_pred)*100)\n",
        "      \n",
        "print(\"Report : \",\n",
        "    classification_report(y_test, y_pred))"
      ]
    },
    {
      "cell_type": "markdown",
      "metadata": {
        "id": "FhtyJTn6bZp6"
      },
      "source": [
        "After tuning our parameter our model has improved by giving us an f1 score of 74% for no delayed class and 40% for delayed class. This means our model classifier works best for non delayed class."
      ]
    },
    {
      "cell_type": "markdown",
      "metadata": {
        "id": "zSFpPWgUJO_t"
      },
      "source": [
        "### **2. KNN'S**"
      ]
    },
    {
      "cell_type": "code",
      "execution_count": null,
      "metadata": {
        "id": "xXEp-r5VnuwS"
      },
      "outputs": [],
      "source": [
        "from sklearn.neighbors import KNeighborsClassifier"
      ]
    },
    {
      "cell_type": "code",
      "execution_count": null,
      "metadata": {
        "id": "mquUQd5gJSLf",
        "colab": {
          "base_uri": "https://localhost:8080/",
          "height": 206
        },
        "outputId": "2ba86aa1-7a75-4430-b651-fe56292286e5"
      },
      "outputs": [
        {
          "output_type": "execute_result",
          "data": {
            "text/plain": [
              "   Airline  Flight  AirportFrom  AirportTo  DayOfWeek  Time  Length  Delay\n",
              "0        4     269          253        135          3    15     205      1\n",
              "1       14    1558          217         60          3    15     222      1\n",
              "2        1    2400          154         80          3    20     165      1\n",
              "3        1    2466          253         80          3    20     195      1\n",
              "4        2     108           14        252          3    30     202      0"
            ],
            "text/html": [
              "\n",
              "  <div id=\"df-534b0edc-c52d-4f61-8c2b-6ba2315c67ae\">\n",
              "    <div class=\"colab-df-container\">\n",
              "      <div>\n",
              "<style scoped>\n",
              "    .dataframe tbody tr th:only-of-type {\n",
              "        vertical-align: middle;\n",
              "    }\n",
              "\n",
              "    .dataframe tbody tr th {\n",
              "        vertical-align: top;\n",
              "    }\n",
              "\n",
              "    .dataframe thead th {\n",
              "        text-align: right;\n",
              "    }\n",
              "</style>\n",
              "<table border=\"1\" class=\"dataframe\">\n",
              "  <thead>\n",
              "    <tr style=\"text-align: right;\">\n",
              "      <th></th>\n",
              "      <th>Airline</th>\n",
              "      <th>Flight</th>\n",
              "      <th>AirportFrom</th>\n",
              "      <th>AirportTo</th>\n",
              "      <th>DayOfWeek</th>\n",
              "      <th>Time</th>\n",
              "      <th>Length</th>\n",
              "      <th>Delay</th>\n",
              "    </tr>\n",
              "  </thead>\n",
              "  <tbody>\n",
              "    <tr>\n",
              "      <th>0</th>\n",
              "      <td>4</td>\n",
              "      <td>269</td>\n",
              "      <td>253</td>\n",
              "      <td>135</td>\n",
              "      <td>3</td>\n",
              "      <td>15</td>\n",
              "      <td>205</td>\n",
              "      <td>1</td>\n",
              "    </tr>\n",
              "    <tr>\n",
              "      <th>1</th>\n",
              "      <td>14</td>\n",
              "      <td>1558</td>\n",
              "      <td>217</td>\n",
              "      <td>60</td>\n",
              "      <td>3</td>\n",
              "      <td>15</td>\n",
              "      <td>222</td>\n",
              "      <td>1</td>\n",
              "    </tr>\n",
              "    <tr>\n",
              "      <th>2</th>\n",
              "      <td>1</td>\n",
              "      <td>2400</td>\n",
              "      <td>154</td>\n",
              "      <td>80</td>\n",
              "      <td>3</td>\n",
              "      <td>20</td>\n",
              "      <td>165</td>\n",
              "      <td>1</td>\n",
              "    </tr>\n",
              "    <tr>\n",
              "      <th>3</th>\n",
              "      <td>1</td>\n",
              "      <td>2466</td>\n",
              "      <td>253</td>\n",
              "      <td>80</td>\n",
              "      <td>3</td>\n",
              "      <td>20</td>\n",
              "      <td>195</td>\n",
              "      <td>1</td>\n",
              "    </tr>\n",
              "    <tr>\n",
              "      <th>4</th>\n",
              "      <td>2</td>\n",
              "      <td>108</td>\n",
              "      <td>14</td>\n",
              "      <td>252</td>\n",
              "      <td>3</td>\n",
              "      <td>30</td>\n",
              "      <td>202</td>\n",
              "      <td>0</td>\n",
              "    </tr>\n",
              "  </tbody>\n",
              "</table>\n",
              "</div>\n",
              "      <button class=\"colab-df-convert\" onclick=\"convertToInteractive('df-534b0edc-c52d-4f61-8c2b-6ba2315c67ae')\"\n",
              "              title=\"Convert this dataframe to an interactive table.\"\n",
              "              style=\"display:none;\">\n",
              "        \n",
              "  <svg xmlns=\"http://www.w3.org/2000/svg\" height=\"24px\"viewBox=\"0 0 24 24\"\n",
              "       width=\"24px\">\n",
              "    <path d=\"M0 0h24v24H0V0z\" fill=\"none\"/>\n",
              "    <path d=\"M18.56 5.44l.94 2.06.94-2.06 2.06-.94-2.06-.94-.94-2.06-.94 2.06-2.06.94zm-11 1L8.5 8.5l.94-2.06 2.06-.94-2.06-.94L8.5 2.5l-.94 2.06-2.06.94zm10 10l.94 2.06.94-2.06 2.06-.94-2.06-.94-.94-2.06-.94 2.06-2.06.94z\"/><path d=\"M17.41 7.96l-1.37-1.37c-.4-.4-.92-.59-1.43-.59-.52 0-1.04.2-1.43.59L10.3 9.45l-7.72 7.72c-.78.78-.78 2.05 0 2.83L4 21.41c.39.39.9.59 1.41.59.51 0 1.02-.2 1.41-.59l7.78-7.78 2.81-2.81c.8-.78.8-2.07 0-2.86zM5.41 20L4 18.59l7.72-7.72 1.47 1.35L5.41 20z\"/>\n",
              "  </svg>\n",
              "      </button>\n",
              "      \n",
              "  <style>\n",
              "    .colab-df-container {\n",
              "      display:flex;\n",
              "      flex-wrap:wrap;\n",
              "      gap: 12px;\n",
              "    }\n",
              "\n",
              "    .colab-df-convert {\n",
              "      background-color: #E8F0FE;\n",
              "      border: none;\n",
              "      border-radius: 50%;\n",
              "      cursor: pointer;\n",
              "      display: none;\n",
              "      fill: #1967D2;\n",
              "      height: 32px;\n",
              "      padding: 0 0 0 0;\n",
              "      width: 32px;\n",
              "    }\n",
              "\n",
              "    .colab-df-convert:hover {\n",
              "      background-color: #E2EBFA;\n",
              "      box-shadow: 0px 1px 2px rgba(60, 64, 67, 0.3), 0px 1px 3px 1px rgba(60, 64, 67, 0.15);\n",
              "      fill: #174EA6;\n",
              "    }\n",
              "\n",
              "    [theme=dark] .colab-df-convert {\n",
              "      background-color: #3B4455;\n",
              "      fill: #D2E3FC;\n",
              "    }\n",
              "\n",
              "    [theme=dark] .colab-df-convert:hover {\n",
              "      background-color: #434B5C;\n",
              "      box-shadow: 0px 1px 3px 1px rgba(0, 0, 0, 0.15);\n",
              "      filter: drop-shadow(0px 1px 2px rgba(0, 0, 0, 0.3));\n",
              "      fill: #FFFFFF;\n",
              "    }\n",
              "  </style>\n",
              "\n",
              "      <script>\n",
              "        const buttonEl =\n",
              "          document.querySelector('#df-534b0edc-c52d-4f61-8c2b-6ba2315c67ae button.colab-df-convert');\n",
              "        buttonEl.style.display =\n",
              "          google.colab.kernel.accessAllowed ? 'block' : 'none';\n",
              "\n",
              "        async function convertToInteractive(key) {\n",
              "          const element = document.querySelector('#df-534b0edc-c52d-4f61-8c2b-6ba2315c67ae');\n",
              "          const dataTable =\n",
              "            await google.colab.kernel.invokeFunction('convertToInteractive',\n",
              "                                                     [key], {});\n",
              "          if (!dataTable) return;\n",
              "\n",
              "          const docLinkHtml = 'Like what you see? Visit the ' +\n",
              "            '<a target=\"_blank\" href=https://colab.research.google.com/notebooks/data_table.ipynb>data table notebook</a>'\n",
              "            + ' to learn more about interactive tables.';\n",
              "          element.innerHTML = '';\n",
              "          dataTable['output_type'] = 'display_data';\n",
              "          await google.colab.output.renderOutput(dataTable, element);\n",
              "          const docLink = document.createElement('div');\n",
              "          docLink.innerHTML = docLinkHtml;\n",
              "          element.appendChild(docLink);\n",
              "        }\n",
              "      </script>\n",
              "    </div>\n",
              "  </div>\n",
              "  "
            ]
          },
          "metadata": {},
          "execution_count": 53
        }
      ],
      "source": [
        "#Reminder of our data\n",
        "df1.head()"
      ]
    },
    {
      "cell_type": "code",
      "execution_count": null,
      "metadata": {
        "id": "Bwthv360nBgc"
      },
      "outputs": [],
      "source": [
        "#Preprocessing\n",
        "X= df1.drop(['Delay'], axis=1)\n",
        "y = df1['Delay']"
      ]
    },
    {
      "cell_type": "code",
      "execution_count": null,
      "metadata": {
        "id": "mI9QYN2CnBeQ"
      },
      "outputs": [],
      "source": [
        "# Splitting the data into training and testing sets\n",
        "from sklearn.model_selection import train_test_split\n",
        "X_train, X_test, y_train, y_test = train_test_split(X, y, test_size=0.25, random_state = 0)\n"
      ]
    },
    {
      "cell_type": "code",
      "execution_count": null,
      "metadata": {
        "id": "Pe-NH_xxnBYq",
        "colab": {
          "base_uri": "https://localhost:8080/"
        },
        "outputId": "716be875-1794-4592-dd5b-19b026cf9646"
      },
      "outputs": [
        {
          "output_type": "execute_result",
          "data": {
            "text/plain": [
              "KNeighborsClassifier()"
            ]
          },
          "metadata": {},
          "execution_count": 56
        }
      ],
      "source": [
        "#train our model\n",
        "classifier = KNeighborsClassifier(n_neighbors=5)\n",
        "classifier.fit(X_train, y_train)"
      ]
    },
    {
      "cell_type": "code",
      "execution_count": null,
      "metadata": {
        "id": "3zquewyPn4yJ"
      },
      "outputs": [],
      "source": [
        "# Making predictions on our test data\n",
        "y_pred = classifier.predict(X_test)"
      ]
    },
    {
      "cell_type": "code",
      "execution_count": null,
      "metadata": {
        "id": "mRB45sbEoDLS",
        "colab": {
          "base_uri": "https://localhost:8080/"
        },
        "outputId": "121fceff-5e03-49cb-bbd2-612947665aa9"
      },
      "outputs": [
        {
          "output_type": "stream",
          "name": "stdout",
          "text": [
            "[[53242 21734]\n",
            " [26498 33372]]\n",
            "              precision    recall  f1-score   support\n",
            "\n",
            "           0       0.67      0.71      0.69     74976\n",
            "           1       0.61      0.56      0.58     59870\n",
            "\n",
            "    accuracy                           0.64    134846\n",
            "   macro avg       0.64      0.63      0.63    134846\n",
            "weighted avg       0.64      0.64      0.64    134846\n",
            "\n"
          ]
        }
      ],
      "source": [
        "# Evaluating the Algorithm\n",
        "print(confusion_matrix(y_test, y_pred))\n",
        "print(classification_report(y_test, y_pred))"
      ]
    },
    {
      "cell_type": "markdown",
      "source": [
        "Without tuning any parameter ou KNN model is giving us an f1 score of 69% for class 0 and 58% for class 1"
      ],
      "metadata": {
        "id": "bIYCml28ouo8"
      }
    },
    {
      "cell_type": "markdown",
      "metadata": {
        "id": "OV_0WsYenhx3"
      },
      "source": [
        "**Parameter tuning**"
      ]
    },
    {
      "cell_type": "code",
      "execution_count": null,
      "metadata": {
        "id": "jltXqlvvnhEP"
      },
      "outputs": [],
      "source": [
        "#Preprocessing\n",
        "X= df1.drop(['Delay'], axis=1)\n",
        "y = df1['Delay']"
      ]
    },
    {
      "cell_type": "code",
      "execution_count": null,
      "metadata": {
        "id": "72lEhcA4nBWh",
        "colab": {
          "base_uri": "https://localhost:8080/"
        },
        "outputId": "ddaab2b9-05d9-4231-ad9c-51be7ae47f79"
      },
      "outputs": [
        {
          "output_type": "execute_result",
          "data": {
            "text/plain": [
              "LinearDiscriminantAnalysis()"
            ]
          },
          "metadata": {},
          "execution_count": 60
        }
      ],
      "source": [
        "#performing LDA\n",
        "from sklearn.discriminant_analysis import LinearDiscriminantAnalysis \n",
        "model = LinearDiscriminantAnalysis()\n",
        "model.fit(X, y)\n",
        "# Data reduction."
      ]
    },
    {
      "cell_type": "code",
      "execution_count": null,
      "metadata": {
        "id": "oQ2bYOWdobU6"
      },
      "outputs": [],
      "source": [
        "# Splitting the data into training and testing sets\n",
        "X_train, X_test, y_train, y_test = train_test_split(X, y, test_size=0.25)"
      ]
    },
    {
      "cell_type": "code",
      "execution_count": null,
      "metadata": {
        "id": "gLRA5KnmovuN"
      },
      "outputs": [],
      "source": [
        "#Standardizing\n",
        "from sklearn.preprocessing import StandardScaler\n",
        "scaler = StandardScaler()\n",
        "scaler.fit(X_train)\n",
        "\n",
        "X_train = scaler.transform(X_train)\n",
        "X_test = scaler.transform(X_test)"
      ]
    },
    {
      "cell_type": "code",
      "execution_count": null,
      "metadata": {
        "id": "cFrpL5kmoU6H",
        "colab": {
          "base_uri": "https://localhost:8080/"
        },
        "outputId": "245cefd2-c300-4d62-f708-2c51b4afdb51"
      },
      "outputs": [
        {
          "output_type": "execute_result",
          "data": {
            "text/plain": [
              "KNeighborsClassifier()"
            ]
          },
          "metadata": {},
          "execution_count": 63
        }
      ],
      "source": [
        "#train our model\n",
        "classifier = KNeighborsClassifier(n_neighbors=5)\n",
        "classifier.fit(X_train, y_train)"
      ]
    },
    {
      "cell_type": "code",
      "execution_count": null,
      "metadata": {
        "id": "9BQmAjK5oP1r"
      },
      "outputs": [],
      "source": [
        "# Making predictions on our test data\n",
        "y_pred = classifier.predict(X_test)"
      ]
    },
    {
      "cell_type": "code",
      "execution_count": null,
      "metadata": {
        "id": "dMy_v_FHoMfz",
        "colab": {
          "base_uri": "https://localhost:8080/"
        },
        "outputId": "d619c06f-75dc-4ac2-b8f0-3aaa66469b4b"
      },
      "outputs": [
        {
          "output_type": "stream",
          "name": "stdout",
          "text": [
            "[[51366 23509]\n",
            " [28124 31847]]\n",
            "              precision    recall  f1-score   support\n",
            "\n",
            "           0       0.65      0.69      0.67     74875\n",
            "           1       0.58      0.53      0.55     59971\n",
            "\n",
            "    accuracy                           0.62    134846\n",
            "   macro avg       0.61      0.61      0.61    134846\n",
            "weighted avg       0.61      0.62      0.62    134846\n",
            "\n"
          ]
        }
      ],
      "source": [
        "# Evaluating the Algorithm\n",
        "print(confusion_matrix(y_test, y_pred))\n",
        "print(classification_report(y_test, y_pred))"
      ]
    },
    {
      "cell_type": "markdown",
      "source": [
        "our measure of success which is f1 score has decreased to 67% and 55% after tuning parameter. coul mean this is not the best model for this dataset"
      ],
      "metadata": {
        "id": "_TUj9SnAo-qi"
      }
    },
    {
      "cell_type": "markdown",
      "metadata": {
        "id": "fvV0RlPAJTR_"
      },
      "source": [
        "### **3. Naive Bayes**"
      ]
    },
    {
      "cell_type": "code",
      "execution_count": null,
      "metadata": {
        "id": "Dq3871dkJWeb"
      },
      "outputs": [],
      "source": [
        "from sklearn.naive_bayes import BernoulliNB\n",
        "clf = BernoulliNB()"
      ]
    },
    {
      "cell_type": "code",
      "execution_count": null,
      "metadata": {
        "id": "BVAwv8fqpN2T",
        "colab": {
          "base_uri": "https://localhost:8080/",
          "height": 206
        },
        "outputId": "a115d80d-49a9-428c-cc17-97413adf0100"
      },
      "outputs": [
        {
          "output_type": "execute_result",
          "data": {
            "text/plain": [
              "   Airline  Flight  AirportFrom  AirportTo  DayOfWeek  Time  Length  Delay\n",
              "0        4     269          253        135          3    15     205      1\n",
              "1       14    1558          217         60          3    15     222      1\n",
              "2        1    2400          154         80          3    20     165      1\n",
              "3        1    2466          253         80          3    20     195      1\n",
              "4        2     108           14        252          3    30     202      0"
            ],
            "text/html": [
              "\n",
              "  <div id=\"df-85d9cc88-7097-4a21-a487-4e17f762cd7c\">\n",
              "    <div class=\"colab-df-container\">\n",
              "      <div>\n",
              "<style scoped>\n",
              "    .dataframe tbody tr th:only-of-type {\n",
              "        vertical-align: middle;\n",
              "    }\n",
              "\n",
              "    .dataframe tbody tr th {\n",
              "        vertical-align: top;\n",
              "    }\n",
              "\n",
              "    .dataframe thead th {\n",
              "        text-align: right;\n",
              "    }\n",
              "</style>\n",
              "<table border=\"1\" class=\"dataframe\">\n",
              "  <thead>\n",
              "    <tr style=\"text-align: right;\">\n",
              "      <th></th>\n",
              "      <th>Airline</th>\n",
              "      <th>Flight</th>\n",
              "      <th>AirportFrom</th>\n",
              "      <th>AirportTo</th>\n",
              "      <th>DayOfWeek</th>\n",
              "      <th>Time</th>\n",
              "      <th>Length</th>\n",
              "      <th>Delay</th>\n",
              "    </tr>\n",
              "  </thead>\n",
              "  <tbody>\n",
              "    <tr>\n",
              "      <th>0</th>\n",
              "      <td>4</td>\n",
              "      <td>269</td>\n",
              "      <td>253</td>\n",
              "      <td>135</td>\n",
              "      <td>3</td>\n",
              "      <td>15</td>\n",
              "      <td>205</td>\n",
              "      <td>1</td>\n",
              "    </tr>\n",
              "    <tr>\n",
              "      <th>1</th>\n",
              "      <td>14</td>\n",
              "      <td>1558</td>\n",
              "      <td>217</td>\n",
              "      <td>60</td>\n",
              "      <td>3</td>\n",
              "      <td>15</td>\n",
              "      <td>222</td>\n",
              "      <td>1</td>\n",
              "    </tr>\n",
              "    <tr>\n",
              "      <th>2</th>\n",
              "      <td>1</td>\n",
              "      <td>2400</td>\n",
              "      <td>154</td>\n",
              "      <td>80</td>\n",
              "      <td>3</td>\n",
              "      <td>20</td>\n",
              "      <td>165</td>\n",
              "      <td>1</td>\n",
              "    </tr>\n",
              "    <tr>\n",
              "      <th>3</th>\n",
              "      <td>1</td>\n",
              "      <td>2466</td>\n",
              "      <td>253</td>\n",
              "      <td>80</td>\n",
              "      <td>3</td>\n",
              "      <td>20</td>\n",
              "      <td>195</td>\n",
              "      <td>1</td>\n",
              "    </tr>\n",
              "    <tr>\n",
              "      <th>4</th>\n",
              "      <td>2</td>\n",
              "      <td>108</td>\n",
              "      <td>14</td>\n",
              "      <td>252</td>\n",
              "      <td>3</td>\n",
              "      <td>30</td>\n",
              "      <td>202</td>\n",
              "      <td>0</td>\n",
              "    </tr>\n",
              "  </tbody>\n",
              "</table>\n",
              "</div>\n",
              "      <button class=\"colab-df-convert\" onclick=\"convertToInteractive('df-85d9cc88-7097-4a21-a487-4e17f762cd7c')\"\n",
              "              title=\"Convert this dataframe to an interactive table.\"\n",
              "              style=\"display:none;\">\n",
              "        \n",
              "  <svg xmlns=\"http://www.w3.org/2000/svg\" height=\"24px\"viewBox=\"0 0 24 24\"\n",
              "       width=\"24px\">\n",
              "    <path d=\"M0 0h24v24H0V0z\" fill=\"none\"/>\n",
              "    <path d=\"M18.56 5.44l.94 2.06.94-2.06 2.06-.94-2.06-.94-.94-2.06-.94 2.06-2.06.94zm-11 1L8.5 8.5l.94-2.06 2.06-.94-2.06-.94L8.5 2.5l-.94 2.06-2.06.94zm10 10l.94 2.06.94-2.06 2.06-.94-2.06-.94-.94-2.06-.94 2.06-2.06.94z\"/><path d=\"M17.41 7.96l-1.37-1.37c-.4-.4-.92-.59-1.43-.59-.52 0-1.04.2-1.43.59L10.3 9.45l-7.72 7.72c-.78.78-.78 2.05 0 2.83L4 21.41c.39.39.9.59 1.41.59.51 0 1.02-.2 1.41-.59l7.78-7.78 2.81-2.81c.8-.78.8-2.07 0-2.86zM5.41 20L4 18.59l7.72-7.72 1.47 1.35L5.41 20z\"/>\n",
              "  </svg>\n",
              "      </button>\n",
              "      \n",
              "  <style>\n",
              "    .colab-df-container {\n",
              "      display:flex;\n",
              "      flex-wrap:wrap;\n",
              "      gap: 12px;\n",
              "    }\n",
              "\n",
              "    .colab-df-convert {\n",
              "      background-color: #E8F0FE;\n",
              "      border: none;\n",
              "      border-radius: 50%;\n",
              "      cursor: pointer;\n",
              "      display: none;\n",
              "      fill: #1967D2;\n",
              "      height: 32px;\n",
              "      padding: 0 0 0 0;\n",
              "      width: 32px;\n",
              "    }\n",
              "\n",
              "    .colab-df-convert:hover {\n",
              "      background-color: #E2EBFA;\n",
              "      box-shadow: 0px 1px 2px rgba(60, 64, 67, 0.3), 0px 1px 3px 1px rgba(60, 64, 67, 0.15);\n",
              "      fill: #174EA6;\n",
              "    }\n",
              "\n",
              "    [theme=dark] .colab-df-convert {\n",
              "      background-color: #3B4455;\n",
              "      fill: #D2E3FC;\n",
              "    }\n",
              "\n",
              "    [theme=dark] .colab-df-convert:hover {\n",
              "      background-color: #434B5C;\n",
              "      box-shadow: 0px 1px 3px 1px rgba(0, 0, 0, 0.15);\n",
              "      filter: drop-shadow(0px 1px 2px rgba(0, 0, 0, 0.3));\n",
              "      fill: #FFFFFF;\n",
              "    }\n",
              "  </style>\n",
              "\n",
              "      <script>\n",
              "        const buttonEl =\n",
              "          document.querySelector('#df-85d9cc88-7097-4a21-a487-4e17f762cd7c button.colab-df-convert');\n",
              "        buttonEl.style.display =\n",
              "          google.colab.kernel.accessAllowed ? 'block' : 'none';\n",
              "\n",
              "        async function convertToInteractive(key) {\n",
              "          const element = document.querySelector('#df-85d9cc88-7097-4a21-a487-4e17f762cd7c');\n",
              "          const dataTable =\n",
              "            await google.colab.kernel.invokeFunction('convertToInteractive',\n",
              "                                                     [key], {});\n",
              "          if (!dataTable) return;\n",
              "\n",
              "          const docLinkHtml = 'Like what you see? Visit the ' +\n",
              "            '<a target=\"_blank\" href=https://colab.research.google.com/notebooks/data_table.ipynb>data table notebook</a>'\n",
              "            + ' to learn more about interactive tables.';\n",
              "          element.innerHTML = '';\n",
              "          dataTable['output_type'] = 'display_data';\n",
              "          await google.colab.output.renderOutput(dataTable, element);\n",
              "          const docLink = document.createElement('div');\n",
              "          docLink.innerHTML = docLinkHtml;\n",
              "          element.appendChild(docLink);\n",
              "        }\n",
              "      </script>\n",
              "    </div>\n",
              "  </div>\n",
              "  "
            ]
          },
          "metadata": {},
          "execution_count": 67
        }
      ],
      "source": [
        "#Viewing our dataset\n",
        "df1.head()"
      ]
    },
    {
      "cell_type": "code",
      "execution_count": null,
      "metadata": {
        "id": "RTQe9aRIpNzl"
      },
      "outputs": [],
      "source": [
        "#Preprocessing\n",
        "X= df1.drop(['Delay'], axis=1)\n",
        "y = df1['Delay']"
      ]
    },
    {
      "cell_type": "code",
      "execution_count": null,
      "metadata": {
        "id": "i23a9xiLpq-d",
        "colab": {
          "base_uri": "https://localhost:8080/"
        },
        "outputId": "e691920c-510f-49bd-ab14-10e4d27fedbe"
      },
      "outputs": [
        {
          "output_type": "execute_result",
          "data": {
            "text/plain": [
              "0.5545577076029463"
            ]
          },
          "metadata": {},
          "execution_count": 69
        }
      ],
      "source": [
        "# Train model\n",
        "model = clf.fit(X, y)\n",
        "\n",
        "# model score\n",
        "model.score(X, y)"
      ]
    },
    {
      "cell_type": "markdown",
      "source": [
        "Using bernulli we get a metric score of 55% with no parameters tuned"
      ],
      "metadata": {
        "id": "vIVo4pxPpYeT"
      }
    },
    {
      "cell_type": "markdown",
      "metadata": {
        "id": "-t2IHW8cpxIb"
      },
      "source": [
        "**Parameter tuning**"
      ]
    },
    {
      "cell_type": "code",
      "execution_count": null,
      "metadata": {
        "id": "TNrygIYopq44"
      },
      "outputs": [],
      "source": [
        "#Preprocessing\n",
        "X= df1.drop(['Delay'], axis=1)\n",
        "y = df1['Delay']"
      ]
    },
    {
      "cell_type": "code",
      "execution_count": null,
      "metadata": {
        "id": "N8TRmfonpqzu",
        "colab": {
          "base_uri": "https://localhost:8080/"
        },
        "outputId": "719fdcff-4115-4b69-f2db-c39d9bc778fa"
      },
      "outputs": [
        {
          "output_type": "execute_result",
          "data": {
            "text/plain": [
              "LinearDiscriminantAnalysis()"
            ]
          },
          "metadata": {},
          "execution_count": 71
        }
      ],
      "source": [
        "# Data Reduction\n",
        "#\n",
        "from sklearn.discriminant_analysis import LinearDiscriminantAnalysis \n",
        "lda = LinearDiscriminantAnalysis()\n",
        "lda.fit(X, y)"
      ]
    },
    {
      "cell_type": "code",
      "execution_count": null,
      "metadata": {
        "id": "U7xTgfMfpqun"
      },
      "outputs": [],
      "source": [
        "#Standardizing the data\n",
        "std = StandardScaler()\n",
        "\n",
        "x = std.fit_transform(X)"
      ]
    },
    {
      "cell_type": "code",
      "execution_count": null,
      "metadata": {
        "id": "qBdNeUZfpqph",
        "colab": {
          "base_uri": "https://localhost:8080/"
        },
        "outputId": "b9fcc4cc-b8e4-412e-f030-42a786304f8c"
      },
      "outputs": [
        {
          "output_type": "execute_result",
          "data": {
            "text/plain": [
              "0.5842842655404415"
            ]
          },
          "metadata": {},
          "execution_count": 73
        }
      ],
      "source": [
        "# Train model\n",
        "model = clf.fit(x, y)\n",
        "\n",
        "# model score\n",
        "model.score(x, y)"
      ]
    },
    {
      "cell_type": "markdown",
      "source": [
        "After tuning the model does a bit better giving us a metric score of 58%"
      ],
      "metadata": {
        "id": "H7UnDKZSpg-w"
      }
    },
    {
      "cell_type": "markdown",
      "metadata": {
        "id": "6iHqkq2NquyH"
      },
      "source": [
        "**Challenging with Gaussian**"
      ]
    },
    {
      "cell_type": "code",
      "execution_count": null,
      "metadata": {
        "id": "KOSqmVJ0pqkZ"
      },
      "outputs": [],
      "source": [
        "from sklearn.naive_bayes import GaussianNB"
      ]
    },
    {
      "cell_type": "code",
      "execution_count": null,
      "metadata": {
        "id": "ebbN1bGnq8i_"
      },
      "outputs": [],
      "source": [
        "#Preprocessing\n",
        "X= df1.drop(['Delay'], axis=1)\n",
        "y = df1['Delay']"
      ]
    },
    {
      "cell_type": "code",
      "execution_count": null,
      "metadata": {
        "id": "DiJ-6_Llq8gV"
      },
      "outputs": [],
      "source": [
        "#Spliting to train and test\n",
        "X_train, X_test, y_train, y_test = train_test_split(X, y, test_size = 0.25, random_state = 0)"
      ]
    },
    {
      "cell_type": "code",
      "execution_count": null,
      "metadata": {
        "id": "g7NyZuJlq8ao"
      },
      "outputs": [],
      "source": [
        "# Training our model\n",
        "# \n",
        "clf = GaussianNB()  \n",
        "model = clf.fit(X_train, y_train) "
      ]
    },
    {
      "cell_type": "code",
      "execution_count": null,
      "metadata": {
        "id": "cP3URtZPq8VE",
        "colab": {
          "base_uri": "https://localhost:8080/"
        },
        "outputId": "b3e4ef52-37b1-4bd9-986c-22b94973874a"
      },
      "outputs": [
        {
          "output_type": "stream",
          "name": "stdout",
          "text": [
            "0.5869213769781825\n"
          ]
        }
      ],
      "source": [
        "# Predicting our test predictors\n",
        "predicted = model.predict(X_test)\n",
        "print(np.mean(predicted == y_test))"
      ]
    },
    {
      "cell_type": "markdown",
      "source": [
        "On using Gaussian our model gives a better score with no parameters tuned of 59%"
      ],
      "metadata": {
        "id": "qd7vzPCUpyPU"
      }
    },
    {
      "cell_type": "markdown",
      "metadata": {
        "id": "kiOx5Cmqrluz"
      },
      "source": [
        "Parameter tuning in Gaussian"
      ]
    },
    {
      "cell_type": "code",
      "execution_count": null,
      "metadata": {
        "id": "wblSUFtCq8Cl"
      },
      "outputs": [],
      "source": [
        "#Preprocessing\n",
        "X= df1.drop(['Delay'], axis=1)\n",
        "y = df1['Delay']"
      ]
    },
    {
      "cell_type": "code",
      "execution_count": null,
      "metadata": {
        "id": "HiI3l77dr72w",
        "colab": {
          "base_uri": "https://localhost:8080/"
        },
        "outputId": "6f89ce8a-c52c-4770-a38e-640e49cdbb70"
      },
      "outputs": [
        {
          "output_type": "execute_result",
          "data": {
            "text/plain": [
              "LinearDiscriminantAnalysis()"
            ]
          },
          "metadata": {},
          "execution_count": 80
        }
      ],
      "source": [
        "# Data Reduction\n",
        "lda = LinearDiscriminantAnalysis()\n",
        "lda.fit(X, y)"
      ]
    },
    {
      "cell_type": "code",
      "execution_count": null,
      "metadata": {
        "id": "SExHSd4xrt6M"
      },
      "outputs": [],
      "source": [
        "#Spliting to train and test\n",
        "X_train, X_test, y_train, y_test = train_test_split(X, y, test_size = 0.25, random_state = 0)"
      ]
    },
    {
      "cell_type": "code",
      "execution_count": null,
      "metadata": {
        "id": "GL1iRxGUr-_4"
      },
      "outputs": [],
      "source": [
        "#Standardizing\n",
        "scaler = StandardScaler()\n",
        "scaler.fit(X_train)\n",
        "\n",
        "X_train = scaler.transform(X_train)\n",
        "X_test = scaler.transform(X_test)"
      ]
    },
    {
      "cell_type": "code",
      "execution_count": null,
      "metadata": {
        "id": "HD0jYs_art2J"
      },
      "outputs": [],
      "source": [
        "# Training our model\n",
        "# \n",
        "clf = GaussianNB()  \n",
        "model = clf.fit(X_train, y_train) "
      ]
    },
    {
      "cell_type": "code",
      "execution_count": null,
      "metadata": {
        "id": "9a0xfGjZrtvG",
        "colab": {
          "base_uri": "https://localhost:8080/"
        },
        "outputId": "c23a8d77-9627-40f6-c5de-74d73b87ecc6"
      },
      "outputs": [
        {
          "output_type": "stream",
          "name": "stdout",
          "text": [
            "0.5869139611111935\n"
          ]
        }
      ],
      "source": [
        "# Predicting our test predictors\n",
        "predicted = model.predict(X_test)\n",
        "print(np.mean(predicted == y_test))"
      ]
    },
    {
      "cell_type": "markdown",
      "source": [
        "There is no change in metric score after parameter tuning. 59%"
      ],
      "metadata": {
        "id": "d4cR0RP5p8Nx"
      }
    },
    {
      "cell_type": "markdown",
      "metadata": {
        "id": "Px_ub45JJXdj"
      },
      "source": [
        "### **6. Neural Networks**"
      ]
    },
    {
      "cell_type": "code",
      "execution_count": null,
      "metadata": {
        "id": "j3PNjXFjJbjc"
      },
      "outputs": [],
      "source": [
        "from sklearn.neural_network import MLPClassifier"
      ]
    },
    {
      "cell_type": "code",
      "execution_count": null,
      "metadata": {
        "id": "uyNa5bWEs7gd",
        "colab": {
          "base_uri": "https://localhost:8080/",
          "height": 206
        },
        "outputId": "f6387c8e-e19c-463e-cbb4-32bde6711de5"
      },
      "outputs": [
        {
          "output_type": "execute_result",
          "data": {
            "text/plain": [
              "   Airline  Flight  AirportFrom  AirportTo  DayOfWeek  Time  Length  Delay\n",
              "0        4     269          253        135          3    15     205      1\n",
              "1       14    1558          217         60          3    15     222      1\n",
              "2        1    2400          154         80          3    20     165      1\n",
              "3        1    2466          253         80          3    20     195      1\n",
              "4        2     108           14        252          3    30     202      0"
            ],
            "text/html": [
              "\n",
              "  <div id=\"df-55bcd2c1-7476-42d6-907f-95e0fec65ff6\">\n",
              "    <div class=\"colab-df-container\">\n",
              "      <div>\n",
              "<style scoped>\n",
              "    .dataframe tbody tr th:only-of-type {\n",
              "        vertical-align: middle;\n",
              "    }\n",
              "\n",
              "    .dataframe tbody tr th {\n",
              "        vertical-align: top;\n",
              "    }\n",
              "\n",
              "    .dataframe thead th {\n",
              "        text-align: right;\n",
              "    }\n",
              "</style>\n",
              "<table border=\"1\" class=\"dataframe\">\n",
              "  <thead>\n",
              "    <tr style=\"text-align: right;\">\n",
              "      <th></th>\n",
              "      <th>Airline</th>\n",
              "      <th>Flight</th>\n",
              "      <th>AirportFrom</th>\n",
              "      <th>AirportTo</th>\n",
              "      <th>DayOfWeek</th>\n",
              "      <th>Time</th>\n",
              "      <th>Length</th>\n",
              "      <th>Delay</th>\n",
              "    </tr>\n",
              "  </thead>\n",
              "  <tbody>\n",
              "    <tr>\n",
              "      <th>0</th>\n",
              "      <td>4</td>\n",
              "      <td>269</td>\n",
              "      <td>253</td>\n",
              "      <td>135</td>\n",
              "      <td>3</td>\n",
              "      <td>15</td>\n",
              "      <td>205</td>\n",
              "      <td>1</td>\n",
              "    </tr>\n",
              "    <tr>\n",
              "      <th>1</th>\n",
              "      <td>14</td>\n",
              "      <td>1558</td>\n",
              "      <td>217</td>\n",
              "      <td>60</td>\n",
              "      <td>3</td>\n",
              "      <td>15</td>\n",
              "      <td>222</td>\n",
              "      <td>1</td>\n",
              "    </tr>\n",
              "    <tr>\n",
              "      <th>2</th>\n",
              "      <td>1</td>\n",
              "      <td>2400</td>\n",
              "      <td>154</td>\n",
              "      <td>80</td>\n",
              "      <td>3</td>\n",
              "      <td>20</td>\n",
              "      <td>165</td>\n",
              "      <td>1</td>\n",
              "    </tr>\n",
              "    <tr>\n",
              "      <th>3</th>\n",
              "      <td>1</td>\n",
              "      <td>2466</td>\n",
              "      <td>253</td>\n",
              "      <td>80</td>\n",
              "      <td>3</td>\n",
              "      <td>20</td>\n",
              "      <td>195</td>\n",
              "      <td>1</td>\n",
              "    </tr>\n",
              "    <tr>\n",
              "      <th>4</th>\n",
              "      <td>2</td>\n",
              "      <td>108</td>\n",
              "      <td>14</td>\n",
              "      <td>252</td>\n",
              "      <td>3</td>\n",
              "      <td>30</td>\n",
              "      <td>202</td>\n",
              "      <td>0</td>\n",
              "    </tr>\n",
              "  </tbody>\n",
              "</table>\n",
              "</div>\n",
              "      <button class=\"colab-df-convert\" onclick=\"convertToInteractive('df-55bcd2c1-7476-42d6-907f-95e0fec65ff6')\"\n",
              "              title=\"Convert this dataframe to an interactive table.\"\n",
              "              style=\"display:none;\">\n",
              "        \n",
              "  <svg xmlns=\"http://www.w3.org/2000/svg\" height=\"24px\"viewBox=\"0 0 24 24\"\n",
              "       width=\"24px\">\n",
              "    <path d=\"M0 0h24v24H0V0z\" fill=\"none\"/>\n",
              "    <path d=\"M18.56 5.44l.94 2.06.94-2.06 2.06-.94-2.06-.94-.94-2.06-.94 2.06-2.06.94zm-11 1L8.5 8.5l.94-2.06 2.06-.94-2.06-.94L8.5 2.5l-.94 2.06-2.06.94zm10 10l.94 2.06.94-2.06 2.06-.94-2.06-.94-.94-2.06-.94 2.06-2.06.94z\"/><path d=\"M17.41 7.96l-1.37-1.37c-.4-.4-.92-.59-1.43-.59-.52 0-1.04.2-1.43.59L10.3 9.45l-7.72 7.72c-.78.78-.78 2.05 0 2.83L4 21.41c.39.39.9.59 1.41.59.51 0 1.02-.2 1.41-.59l7.78-7.78 2.81-2.81c.8-.78.8-2.07 0-2.86zM5.41 20L4 18.59l7.72-7.72 1.47 1.35L5.41 20z\"/>\n",
              "  </svg>\n",
              "      </button>\n",
              "      \n",
              "  <style>\n",
              "    .colab-df-container {\n",
              "      display:flex;\n",
              "      flex-wrap:wrap;\n",
              "      gap: 12px;\n",
              "    }\n",
              "\n",
              "    .colab-df-convert {\n",
              "      background-color: #E8F0FE;\n",
              "      border: none;\n",
              "      border-radius: 50%;\n",
              "      cursor: pointer;\n",
              "      display: none;\n",
              "      fill: #1967D2;\n",
              "      height: 32px;\n",
              "      padding: 0 0 0 0;\n",
              "      width: 32px;\n",
              "    }\n",
              "\n",
              "    .colab-df-convert:hover {\n",
              "      background-color: #E2EBFA;\n",
              "      box-shadow: 0px 1px 2px rgba(60, 64, 67, 0.3), 0px 1px 3px 1px rgba(60, 64, 67, 0.15);\n",
              "      fill: #174EA6;\n",
              "    }\n",
              "\n",
              "    [theme=dark] .colab-df-convert {\n",
              "      background-color: #3B4455;\n",
              "      fill: #D2E3FC;\n",
              "    }\n",
              "\n",
              "    [theme=dark] .colab-df-convert:hover {\n",
              "      background-color: #434B5C;\n",
              "      box-shadow: 0px 1px 3px 1px rgba(0, 0, 0, 0.15);\n",
              "      filter: drop-shadow(0px 1px 2px rgba(0, 0, 0, 0.3));\n",
              "      fill: #FFFFFF;\n",
              "    }\n",
              "  </style>\n",
              "\n",
              "      <script>\n",
              "        const buttonEl =\n",
              "          document.querySelector('#df-55bcd2c1-7476-42d6-907f-95e0fec65ff6 button.colab-df-convert');\n",
              "        buttonEl.style.display =\n",
              "          google.colab.kernel.accessAllowed ? 'block' : 'none';\n",
              "\n",
              "        async function convertToInteractive(key) {\n",
              "          const element = document.querySelector('#df-55bcd2c1-7476-42d6-907f-95e0fec65ff6');\n",
              "          const dataTable =\n",
              "            await google.colab.kernel.invokeFunction('convertToInteractive',\n",
              "                                                     [key], {});\n",
              "          if (!dataTable) return;\n",
              "\n",
              "          const docLinkHtml = 'Like what you see? Visit the ' +\n",
              "            '<a target=\"_blank\" href=https://colab.research.google.com/notebooks/data_table.ipynb>data table notebook</a>'\n",
              "            + ' to learn more about interactive tables.';\n",
              "          element.innerHTML = '';\n",
              "          dataTable['output_type'] = 'display_data';\n",
              "          await google.colab.output.renderOutput(dataTable, element);\n",
              "          const docLink = document.createElement('div');\n",
              "          docLink.innerHTML = docLinkHtml;\n",
              "          element.appendChild(docLink);\n",
              "        }\n",
              "      </script>\n",
              "    </div>\n",
              "  </div>\n",
              "  "
            ]
          },
          "metadata": {},
          "execution_count": 86
        }
      ],
      "source": [
        "#Dataset overview\n",
        "df1.head()"
      ]
    },
    {
      "cell_type": "code",
      "execution_count": null,
      "metadata": {
        "id": "I9Y6smbxs7bZ"
      },
      "outputs": [],
      "source": [
        "#Preprocessing\n",
        "X= df1.drop(['Delay'], axis=1)\n",
        "y = df1['Delay']"
      ]
    },
    {
      "cell_type": "code",
      "execution_count": null,
      "metadata": {
        "id": "ek0noP_Is7Yb"
      },
      "outputs": [],
      "source": [
        " #  Split the data into train and test set\n",
        "X_train, X_test, y_train, y_test = train_test_split(X, y, test_size = 0.25, random_state = 0) "
      ]
    },
    {
      "cell_type": "code",
      "execution_count": null,
      "metadata": {
        "id": "2Ah5qPoTuRxJ",
        "colab": {
          "base_uri": "https://localhost:8080/"
        },
        "outputId": "bed21f9b-a050-4827-810e-852c88ec0780"
      },
      "outputs": [
        {
          "output_type": "execute_result",
          "data": {
            "text/plain": [
              "MLPClassifier(hidden_layer_sizes=(30, 30, 30), max_iter=500, random_state=10)"
            ]
          },
          "metadata": {},
          "execution_count": 89
        }
      ],
      "source": [
        "# Creating our model\n",
        "mlp = MLPClassifier(hidden_layer_sizes=(30,30,30), random_state=10, max_iter=500)\n",
        "\n",
        "# fitting the data\n",
        "mlp.fit(X_train,y_train)"
      ]
    },
    {
      "cell_type": "code",
      "execution_count": null,
      "metadata": {
        "id": "jMpqOwSsuRrp",
        "colab": {
          "base_uri": "https://localhost:8080/"
        },
        "outputId": "701f7a3a-6ad2-434d-afbb-b1da3c0e5e3e"
      },
      "outputs": [
        {
          "output_type": "stream",
          "name": "stdout",
          "text": [
            "[[63133 11843]\n",
            " [38134 21736]]\n",
            "-----------------------------------------\n",
            "              precision    recall  f1-score   support\n",
            "\n",
            "           0       0.62      0.84      0.72     74976\n",
            "           1       0.65      0.36      0.47     59870\n",
            "\n",
            "    accuracy                           0.63    134846\n",
            "   macro avg       0.64      0.60      0.59    134846\n",
            "weighted avg       0.63      0.63      0.60    134846\n",
            "\n"
          ]
        }
      ],
      "source": [
        "# Predicting\n",
        "y_pred = mlp.predict(X_test)\n",
        "\n",
        "# Evaluation\n",
        "print(confusion_matrix(y_test,y_pred))\n",
        "\n",
        "print('-----------------------------------------')\n",
        "\n",
        "print(classification_report(y_test,y_pred))"
      ]
    },
    {
      "cell_type": "markdown",
      "source": [
        "Using the Multilayer perceptron our f1 score is 72% and 47% for our classes repectively. This is just a base line there is no activation or hyperparameter tuning done"
      ],
      "metadata": {
        "id": "SInUHahCqJ0G"
      }
    },
    {
      "cell_type": "markdown",
      "source": [
        "**Parameter tuning**"
      ],
      "metadata": {
        "id": "-0gsMHzRtcjz"
      }
    },
    {
      "cell_type": "code",
      "execution_count": null,
      "metadata": {
        "id": "lo-ztxPcuRl8"
      },
      "outputs": [],
      "source": [
        "#Preprocessing\n",
        "X= df1.drop(['Delay'], axis=1)\n",
        "y = df1['Delay']"
      ]
    },
    {
      "cell_type": "code",
      "execution_count": null,
      "metadata": {
        "id": "S-MAzdyFuRem"
      },
      "outputs": [],
      "source": [
        "#  Split the data into train and test set\n",
        "X_train, X_test, y_train, y_test = train_test_split(X, y, test_size = 0.25, random_state = 0) "
      ]
    },
    {
      "cell_type": "code",
      "execution_count": null,
      "metadata": {
        "id": "xmDlmz5jtN2A"
      },
      "outputs": [],
      "source": [
        "# Initialize the scaler\n",
        "scaler = StandardScaler()\n",
        "\n",
        "# Fitting the scaler\n",
        "scaler.fit(X_train)\n",
        "# Applying the transformation to the data\n",
        "X_train = scaler.transform(X_train)\n",
        "\n",
        "X_test = scaler.transform(X_test)"
      ]
    },
    {
      "cell_type": "code",
      "execution_count": null,
      "metadata": {
        "id": "Ljk1eaHDs7S0",
        "colab": {
          "base_uri": "https://localhost:8080/"
        },
        "outputId": "faa4ca70-6530-4935-cdf7-205ddeda045e"
      },
      "outputs": [
        {
          "output_type": "execute_result",
          "data": {
            "text/plain": [
              "MLPClassifier(activation='logistic', hidden_layer_sizes=(30, 30, 30),\n",
              "              max_iter=500, random_state=10)"
            ]
          },
          "metadata": {},
          "execution_count": 94
        }
      ],
      "source": [
        "# Creating our model\n",
        "mlp = MLPClassifier(hidden_layer_sizes=(30,30,30), activation='logistic', random_state=10, max_iter=500)\n",
        "\n",
        "# fitting the data\n",
        "mlp.fit(X_train,y_train)"
      ]
    },
    {
      "cell_type": "code",
      "execution_count": null,
      "metadata": {
        "id": "-1v4c-cFs7QI",
        "colab": {
          "base_uri": "https://localhost:8080/"
        },
        "outputId": "9ab9e12b-f85c-43c9-a3c4-05ff1123de0b"
      },
      "outputs": [
        {
          "output_type": "stream",
          "name": "stdout",
          "text": [
            "[[57470 17506]\n",
            " [30458 29412]]\n",
            "-----------------------------------------\n",
            "              precision    recall  f1-score   support\n",
            "\n",
            "           0       0.65      0.77      0.71     74976\n",
            "           1       0.63      0.49      0.55     59870\n",
            "\n",
            "    accuracy                           0.64    134846\n",
            "   macro avg       0.64      0.63      0.63    134846\n",
            "weighted avg       0.64      0.64      0.64    134846\n",
            "\n"
          ]
        }
      ],
      "source": [
        "# Predicting\n",
        "y_pred = mlp.predict(X_test)\n",
        "\n",
        "# Evaluation\n",
        "print(confusion_matrix(y_test,y_pred))\n",
        "\n",
        "print('-----------------------------------------')\n",
        "\n",
        "print(classification_report(y_test,y_pred))"
      ]
    },
    {
      "cell_type": "markdown",
      "source": [
        "After activation and parameter tuning our model was able to get a better f1 score for second class 55% and 71% for first class"
      ],
      "metadata": {
        "id": "2G8-XBHRsF0k"
      }
    },
    {
      "cell_type": "markdown",
      "source": [
        "#**Random Re-sampling: Oversampling and Undersampling**"
      ],
      "metadata": {
        "id": "6AgAyY7hHfI3"
      }
    },
    {
      "cell_type": "code",
      "source": [
        "# Import imbalanced-learn Library\n",
        "# check version number\n",
        "import imblearn\n",
        "print(imblearn.__version__)"
      ],
      "metadata": {
        "id": "v4FcSuht4V1E",
        "colab": {
          "base_uri": "https://localhost:8080/"
        },
        "outputId": "38590623-4c64-47e0-ce59-4c1ef7804e20"
      },
      "execution_count": null,
      "outputs": [
        {
          "output_type": "stream",
          "name": "stdout",
          "text": [
            "0.8.1\n"
          ]
        }
      ]
    },
    {
      "cell_type": "code",
      "source": [
        "# evaluating  neural networks model with random oversampling and undersampling\n",
        "from numpy import mean\n",
        "from sklearn.datasets import make_classification\n",
        "from sklearn.model_selection import cross_val_score\n",
        "from sklearn.model_selection import RepeatedStratifiedKFold\n",
        "from imblearn.pipeline import Pipeline\n",
        "from imblearn.over_sampling import RandomOverSampler\n",
        "from imblearn.under_sampling import RandomUnderSampler\n",
        "\n",
        "# define dataset\n",
        "X, y = make_classification(n_samples=10000, weights=[0.99], flip_y=0)\n",
        "\n",
        "# define pipeline (sampling strategies)\n",
        "over = RandomOverSampler(sampling_strategy=0.1)\n",
        "under = RandomUnderSampler(sampling_strategy=0.5)\n",
        "\n",
        "steps = [('o', over), ('u', under), ('m', MLPClassifier())]\n",
        "pipeline = Pipeline(steps=steps)\n",
        "# evaluate pipeline\n",
        "cv = RepeatedStratifiedKFold(n_splits=10, n_repeats=3, random_state=1)\n",
        "scores = cross_val_score(pipeline, X, y, scoring='f1_micro', cv=cv, n_jobs=-1)\n",
        "score = mean(scores)\n",
        "print('F1 Score: %.3f' % score)"
      ],
      "metadata": {
        "id": "4cldNxOj4W4m",
        "colab": {
          "base_uri": "https://localhost:8080/"
        },
        "outputId": "f0ad10fa-95d1-4706-91c7-eda92d5426a9"
      },
      "execution_count": null,
      "outputs": [
        {
          "output_type": "stream",
          "name": "stdout",
          "text": [
            "F1 Score: 0.987\n"
          ]
        }
      ]
    },
    {
      "cell_type": "markdown",
      "source": [
        "Running above evaluates the model on the imbalanced dataset with oversampling.\n",
        "\n",
        "We can see oversampling for our minority class enabled us to get an improvement with an F1 score of 98%"
      ],
      "metadata": {
        "id": "M624ib585ISF"
      }
    },
    {
      "cell_type": "markdown",
      "source": [
        "# **Other model comparison with our best model**"
      ],
      "metadata": {
        "id": "cfHOgnP8kLv5"
      }
    },
    {
      "cell_type": "code",
      "source": [
        "# Importing different classification models\n",
        "#\n",
        "from sklearn.model_selection import KFold, cross_val_score\n",
        "from xgboost import XGBClassifier\n",
        "import xgboost as xgb\n",
        "import warnings\n",
        "warnings.filterwarnings('ignore')\n",
        "# Selecting the independent variables and the target variable\n",
        "#\n",
        "X = df1.drop('Delay', axis = 1)\n",
        "y = df1['Delay']\n",
        "\n",
        "xgb_model = xgb.XGBClassifier(objective=\"binary:logistic\", random_state=42)\n",
        "xgb_model.fit(X, y)\n",
        "\n",
        "y_pred = xgb_model.predict(X)\n",
        "\n"
      ],
      "metadata": {
        "id": "HhHoXkNvkRTT"
      },
      "execution_count": null,
      "outputs": []
    },
    {
      "cell_type": "code",
      "source": [
        "print(confusion_matrix(y, y_pred))\n",
        "print(classification_report(y,y_pred))"
      ],
      "metadata": {
        "id": "PDUc7RRTwkB8",
        "colab": {
          "base_uri": "https://localhost:8080/"
        },
        "outputId": "14fa38ad-2b68-4a59-ff5e-5c0baf7e9ca1"
      },
      "execution_count": null,
      "outputs": [
        {
          "output_type": "stream",
          "name": "stdout",
          "text": [
            "[[250651  48468]\n",
            " [141204  99060]]\n",
            "              precision    recall  f1-score   support\n",
            "\n",
            "           0       0.64      0.84      0.73    299119\n",
            "           1       0.67      0.41      0.51    240264\n",
            "\n",
            "    accuracy                           0.65    539383\n",
            "   macro avg       0.66      0.63      0.62    539383\n",
            "weighted avg       0.65      0.65      0.63    539383\n",
            "\n"
          ]
        }
      ]
    },
    {
      "cell_type": "markdown",
      "source": [
        "XGBoost Classifier gives a f1 score of 73% and 51% "
      ],
      "metadata": {
        "id": "VYi4kDlAw0NL"
      }
    },
    {
      "cell_type": "code",
      "source": [
        "#Introducing early stopping as a form of parameter tuning\n",
        "X = df1.drop('Delay', axis = 1)\n",
        "y = df1['Delay']\n",
        "xgb_model = xgb.XGBClassifier(objective=\"binary:logistic\", random_state=42, eval_metric=\"auc\")\n",
        "\n",
        "X_train, X_test, y_train, y_test = train_test_split(X, y, random_state=42)\n",
        "\n",
        "xgb_model.fit(X_train, y_train, early_stopping_rounds=5, eval_set=[(X_test, y_test)])\n",
        "\n",
        "y_pred = xgb_model.predict(X_test)"
      ],
      "metadata": {
        "id": "LoJpqJVKwTAa",
        "colab": {
          "base_uri": "https://localhost:8080/"
        },
        "outputId": "7a2943ad-5582-40d2-e22e-87abcb19e111"
      },
      "execution_count": null,
      "outputs": [
        {
          "output_type": "stream",
          "name": "stdout",
          "text": [
            "[0]\tvalidation_0-auc:0.653912\n",
            "Will train until validation_0-auc hasn't improved in 5 rounds.\n",
            "[1]\tvalidation_0-auc:0.654131\n",
            "[2]\tvalidation_0-auc:0.658731\n",
            "[3]\tvalidation_0-auc:0.662343\n",
            "[4]\tvalidation_0-auc:0.662597\n",
            "[5]\tvalidation_0-auc:0.66482\n",
            "[6]\tvalidation_0-auc:0.664533\n",
            "[7]\tvalidation_0-auc:0.665047\n",
            "[8]\tvalidation_0-auc:0.665316\n",
            "[9]\tvalidation_0-auc:0.667292\n",
            "[10]\tvalidation_0-auc:0.666758\n",
            "[11]\tvalidation_0-auc:0.668441\n",
            "[12]\tvalidation_0-auc:0.668843\n",
            "[13]\tvalidation_0-auc:0.669158\n",
            "[14]\tvalidation_0-auc:0.669656\n",
            "[15]\tvalidation_0-auc:0.669635\n",
            "[16]\tvalidation_0-auc:0.670646\n",
            "[17]\tvalidation_0-auc:0.670915\n",
            "[18]\tvalidation_0-auc:0.671555\n",
            "[19]\tvalidation_0-auc:0.672586\n",
            "[20]\tvalidation_0-auc:0.673184\n",
            "[21]\tvalidation_0-auc:0.673225\n",
            "[22]\tvalidation_0-auc:0.674309\n",
            "[23]\tvalidation_0-auc:0.674912\n",
            "[24]\tvalidation_0-auc:0.675925\n",
            "[25]\tvalidation_0-auc:0.676347\n",
            "[26]\tvalidation_0-auc:0.677099\n",
            "[27]\tvalidation_0-auc:0.678576\n",
            "[28]\tvalidation_0-auc:0.678701\n",
            "[29]\tvalidation_0-auc:0.67905\n",
            "[30]\tvalidation_0-auc:0.679525\n",
            "[31]\tvalidation_0-auc:0.680011\n",
            "[32]\tvalidation_0-auc:0.680368\n",
            "[33]\tvalidation_0-auc:0.680542\n",
            "[34]\tvalidation_0-auc:0.680853\n",
            "[35]\tvalidation_0-auc:0.681826\n",
            "[36]\tvalidation_0-auc:0.682075\n",
            "[37]\tvalidation_0-auc:0.682363\n",
            "[38]\tvalidation_0-auc:0.682676\n",
            "[39]\tvalidation_0-auc:0.683078\n",
            "[40]\tvalidation_0-auc:0.683247\n",
            "[41]\tvalidation_0-auc:0.683506\n",
            "[42]\tvalidation_0-auc:0.68345\n",
            "[43]\tvalidation_0-auc:0.683732\n",
            "[44]\tvalidation_0-auc:0.683872\n",
            "[45]\tvalidation_0-auc:0.684252\n",
            "[46]\tvalidation_0-auc:0.684728\n",
            "[47]\tvalidation_0-auc:0.684979\n",
            "[48]\tvalidation_0-auc:0.684994\n",
            "[49]\tvalidation_0-auc:0.685293\n",
            "[50]\tvalidation_0-auc:0.685485\n",
            "[51]\tvalidation_0-auc:0.686385\n",
            "[52]\tvalidation_0-auc:0.686656\n",
            "[53]\tvalidation_0-auc:0.686789\n",
            "[54]\tvalidation_0-auc:0.687438\n",
            "[55]\tvalidation_0-auc:0.68745\n",
            "[56]\tvalidation_0-auc:0.687744\n",
            "[57]\tvalidation_0-auc:0.688132\n",
            "[58]\tvalidation_0-auc:0.688238\n",
            "[59]\tvalidation_0-auc:0.68823\n",
            "[60]\tvalidation_0-auc:0.688574\n",
            "[61]\tvalidation_0-auc:0.688881\n",
            "[62]\tvalidation_0-auc:0.68889\n",
            "[63]\tvalidation_0-auc:0.689032\n",
            "[64]\tvalidation_0-auc:0.689248\n",
            "[65]\tvalidation_0-auc:0.689809\n",
            "[66]\tvalidation_0-auc:0.690124\n",
            "[67]\tvalidation_0-auc:0.690134\n",
            "[68]\tvalidation_0-auc:0.690605\n",
            "[69]\tvalidation_0-auc:0.690713\n",
            "[70]\tvalidation_0-auc:0.690946\n",
            "[71]\tvalidation_0-auc:0.691251\n",
            "[72]\tvalidation_0-auc:0.69135\n",
            "[73]\tvalidation_0-auc:0.691594\n",
            "[74]\tvalidation_0-auc:0.691614\n",
            "[75]\tvalidation_0-auc:0.691977\n",
            "[76]\tvalidation_0-auc:0.692132\n",
            "[77]\tvalidation_0-auc:0.692166\n",
            "[78]\tvalidation_0-auc:0.692236\n",
            "[79]\tvalidation_0-auc:0.69232\n",
            "[80]\tvalidation_0-auc:0.692609\n",
            "[81]\tvalidation_0-auc:0.692687\n",
            "[82]\tvalidation_0-auc:0.692749\n",
            "[83]\tvalidation_0-auc:0.692903\n",
            "[84]\tvalidation_0-auc:0.693027\n",
            "[85]\tvalidation_0-auc:0.693148\n",
            "[86]\tvalidation_0-auc:0.693234\n",
            "[87]\tvalidation_0-auc:0.693461\n",
            "[88]\tvalidation_0-auc:0.693584\n",
            "[89]\tvalidation_0-auc:0.693614\n",
            "[90]\tvalidation_0-auc:0.69366\n",
            "[91]\tvalidation_0-auc:0.693766\n",
            "[92]\tvalidation_0-auc:0.69387\n",
            "[93]\tvalidation_0-auc:0.694071\n",
            "[94]\tvalidation_0-auc:0.694124\n",
            "[95]\tvalidation_0-auc:0.694188\n",
            "[96]\tvalidation_0-auc:0.694281\n",
            "[97]\tvalidation_0-auc:0.694402\n",
            "[98]\tvalidation_0-auc:0.694453\n",
            "[99]\tvalidation_0-auc:0.694563\n"
          ]
        }
      ]
    },
    {
      "cell_type": "code",
      "source": [
        "print(confusion_matrix(y_test, y_pred))\n",
        "print(classification_report(y_test,y_pred))"
      ],
      "metadata": {
        "id": "P4tgWOYtx1ry",
        "colab": {
          "base_uri": "https://localhost:8080/"
        },
        "outputId": "970617f2-98aa-4902-c0a6-eb1f575084cc"
      },
      "execution_count": null,
      "outputs": [
        {
          "output_type": "stream",
          "name": "stdout",
          "text": [
            "[[62960 11857]\n",
            " [35566 24463]]\n",
            "              precision    recall  f1-score   support\n",
            "\n",
            "           0       0.64      0.84      0.73     74817\n",
            "           1       0.67      0.41      0.51     60029\n",
            "\n",
            "    accuracy                           0.65    134846\n",
            "   macro avg       0.66      0.62      0.62    134846\n",
            "weighted avg       0.65      0.65      0.63    134846\n",
            "\n"
          ]
        }
      ]
    },
    {
      "cell_type": "markdown",
      "source": [
        "Our model hasn't improved it still gives us an f1 score of 73% and 51%"
      ],
      "metadata": {
        "id": "0HPyc7oWyBF5"
      }
    },
    {
      "cell_type": "markdown",
      "metadata": {
        "id": "JQtEvKGdJdHg"
      },
      "source": [
        "## **Conclusion**\n",
        "\n",
        "* The best model is Neural network (Mulitlayer Perceptron) followed by Random forest, however on challenging the given model with XGBoost, XGBoost gives the highest f1 score which is what we are looking for in our metric of success"
      ]
    },
    {
      "cell_type": "markdown",
      "metadata": {
        "id": "2baAHjxZJg8c"
      },
      "source": [
        "## **Recommendations**"
      ]
    },
    {
      "cell_type": "markdown",
      "source": [
        "\n",
        "*   From the study it is seen that it is best to fly using HA airline since it has the least delays\n",
        "*   WRG is the best airport to depart from while \n",
        "*   It is also wisest to travel on the 6th day of the week since there is less likelihood to get delayed on the 6th day of the week. The worst day to travel is the 3rd day.\n",
        "*   As a traveller on the 6th day, despite there being the least number of delays, it would be best to travel with HA airline as it has the least mean delay time.\n",
        "\n",
        "\n",
        "  \n",
        "\n",
        "\n",
        "\n",
        "\n"
      ],
      "metadata": {
        "id": "l_2zw4iCJcZf"
      }
    }
  ],
  "metadata": {
    "colab": {
      "collapsed_sections": [],
      "name": "Flight Delay Prediction Team Project.ipynb",
      "provenance": [],
      "include_colab_link": true
    },
    "kernelspec": {
      "display_name": "Python 3",
      "name": "python3"
    },
    "language_info": {
      "name": "python"
    }
  },
  "nbformat": 4,
  "nbformat_minor": 0
}